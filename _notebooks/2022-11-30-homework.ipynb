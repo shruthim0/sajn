{
 "cells": [
  {
   "cell_type": "markdown",
   "metadata": {},
   "source": [
    "# Homework \n",
    "\n",
    "- toc: true\n",
    "- badges: true\n",
    "- comments: true\n",
    "- categories: [Week 13]"
   ]
  },
  {
   "cell_type": "markdown",
   "metadata": {},
   "source": [
    "## Homework/Hacks\n",
    "\n",
    " our homework we have decided for a decimal number to binary converter. You must use conditional statements within your code and have a input box for where the decimal number will go. This will give you a 2.7 out of 3 and you may add anything else to the code to get above a 2.7.\n",
    "\n"
   ]
  },
  {
   "cell_type": "markdown",
   "metadata": {},
   "source": [
    "Below is an example of decimal number to binary converter which you can use as a starting template."
   ]
  },
  {
   "cell_type": "markdown",
   "metadata": {},
   "source": [
    "### Decimal to Binary Converter Using division by 2"
   ]
  },
  {
   "cell_type": "code",
   "execution_count": 1,
   "metadata": {},
   "outputs": [
    {
     "name": "stdout",
     "output_type": "stream",
     "text": [
      "Your number, 1231, in binary is:\n",
      "0011001111"
     ]
    }
   ],
   "source": [
    "num = int(input(\"Enter the number you would like to convert into binary\"))\n",
    "\n",
    "def DecimalToBinary(num):\n",
    "    if num > 1:\n",
    "        DecimalToBinary(num // 2) #divide input by 2\n",
    "        print(num % 2, end = \"\") #so that numbers prints all together instead of new line for each number\n",
    "\n",
    "print(\"Your number, \" + str(num) + \", in binary is:\")\n",
    "DecimalToBinary(num)"
   ]
  },
  {
   "cell_type": "markdown",
   "metadata": {},
   "source": [
    "### Decimal to Binary Converter Using a While loop (Extra)"
   ]
  },
  {
   "cell_type": "code",
   "execution_count": 104,
   "metadata": {},
   "outputs": [
    {
     "name": "stdout",
     "output_type": "stream",
     "text": [
      "Your number 131 in binary is 10000011\n"
     ]
    }
   ],
   "source": [
    "decimal = int(input(\"Enter the number you would like to convert into binary\")) #get input from user & set variables\n",
    "binary = 0\n",
    "i = 0   #set initial\n",
    "num = decimal\n",
    "\n",
    "while(num > 0):\n",
    "    binary = ((num%2)*(10**i)) + binary # set binary equal to remainder of the input/2, multiplied by 10^i\n",
    "    num = int(num/2) #now number equal num/2 rounded to an integer\n",
    "    i += 1 #incriment by 1\n",
    "\n",
    "#output result       \n",
    "print(\"Your number \" + str(decimal) + \" in binary is \" + str(binary))"
   ]
  },
  {
   "cell_type": "code",
   "execution_count": null,
   "metadata": {},
   "outputs": [
    {
     "name": "stdout",
     "output_type": "stream",
     "text": [
      "True: True\n",
      "True: True\n",
      "False: False\n",
      "True: True\n",
      "False: False\n",
      "True: True\n",
      "\n",
      "True: True\n",
      "False False\n",
      "False: False\n",
      "True: True\n",
      "False: False\n",
      "True: True\n",
      "\n"
     ]
    }
   ],
   "source": [
    "print(\"True:\",4 == 4)\n",
    "print(\"True:\",1 > 0)\n",
    "print(\"False:\",7 < 3)\n",
    "print(\"True:\",5 < 6)\n",
    "print(\"False:\",7 > 8)\n",
    "print(\"True:\",3 == 3)\n",
    "print('')\n",
    "\n",
    "# Same as above, but now for other values other than int\n",
    "print('True:',\"as\" == \"as\")\n",
    "print(\"False\",True == False)\n",
    "print(\"False:\",[2,3,1] < [2,3,1])\n",
    "print(\"True:\",'af' < 'bc')\n",
    "print(\"False:\",'ce' > 'cf')\n",
    "print(\"True:\",[1,'b'] > [1,'a'])\n",
    "print('')"
   ]
  },
  {
   "cell_type": "code",
   "execution_count": null,
   "metadata": {},
   "outputs": [
    {
     "name": "stdout",
     "output_type": "stream",
     "text": [
      "True: True\n",
      "False: False\n",
      "True: True\n",
      "False: False\n",
      "False: False\n",
      "True: True\n"
     ]
    }
   ],
   "source": [
    "print(\"True:\", True > False)\n",
    "print(\"False:\",  True > True)\n",
    "print(\"True:\", True == True)\n",
    "print(\"False:\",  False == True)\n",
    "print(\"False:\", True == False)\n",
    "print(\"True:\",  False == False)"
   ]
  },
  {
   "cell_type": "code",
   "execution_count": null,
   "metadata": {},
   "outputs": [
    {
     "name": "stdout",
     "output_type": "stream",
     "text": [
      "3 3 4 6 5 7\n"
     ]
    }
   ],
   "source": [
    "print(3,3,4,6,5,7)"
   ]
  },
  {
   "cell_type": "code",
   "execution_count": 108,
   "metadata": {},
   "outputs": [
    {
     "name": "stdout",
     "output_type": "stream",
     "text": [
      "y is greater than x!!!\n"
     ]
    }
   ],
   "source": [
    "def function(x, y, z):\n",
    "    if x > y:\n",
    "        if z > x:\n",
    "            print(\"z is greater than everything else\")\n",
    "        else:\n",
    "            print(\"x is greater than y and z\")\n",
    "    else:\n",
    "        if y > x:\n",
    "            print(\"y is greater than x!!!\")\n",
    "        else:\n",
    "            print(\"i have no idea :(\")\n",
    "\n",
    "function(7, 12, 3)"
   ]
  },
  {
   "cell_type": "markdown",
   "metadata": {},
   "source": [
    "## Notes\n",
    "\n",
    "- Boolean Operators\n",
    "    - Relational Operators can work between any two values of the same type known as operands, provided that the type supports such types of operators\n",
    "    - operators ==, !=, >, <, >=, <=, each one working the same way that they work as one would expect, with == being the replacement for equal to, since = is reserved for value assignments.\n",
    "    - They also work on other types, such as string or list, and values at each index is compared in order to determine which one is greater \n",
    "    - for example: \"abg\"<\"acd\" returns True, since the computer first goes to a and a, after they are the same, they go to b and c, and since c is \"greater\" than b, \"acd\" is greater than \"abg\"\n",
    "\n",
    "- Vocab\n",
    "    - algorithm - A set of instructions that accomplish a task.\n",
    "    - selection - The process that determines which parts of an algoritm is being executed based on a condition that is true or false.\n",
    "\n",
    "- Conditional\n",
    "    - A conditional is a statement that affects the flow/outcome of a program by executing different statements based on the result of a true or false statement. That true or false statement is a boolean expression.\n",
    "\n",
    "- If/el\n",
    "    - can be if else, can also be just if \n",
    "\n",
    "- Nested conditionals\n",
    "    - Nested Conditional Statements consist of conditional statements within conditional statements.\n",
    "    "
   ]
  }
 ],
 "metadata": {
  "kernelspec": {
   "display_name": "Python 3.8.10 64-bit",
   "language": "python",
   "name": "python3"
  },
  "language_info": {
   "codemirror_mode": {
    "name": "ipython",
    "version": 3
   },
   "file_extension": ".py",
   "mimetype": "text/x-python",
   "name": "python",
   "nbconvert_exporter": "python",
   "pygments_lexer": "ipython3",
   "version": "3.8.10 (default, Jun 22 2022, 20:18:18) \n[GCC 9.4.0]"
  },
  "orig_nbformat": 4,
  "vscode": {
   "interpreter": {
    "hash": "916dbcbb3f70747c44a77c7bcd40155683ae19c65e1c03b4aa3499c5328201f1"
   }
  }
 },
 "nbformat": 4,
 "nbformat_minor": 2
}
