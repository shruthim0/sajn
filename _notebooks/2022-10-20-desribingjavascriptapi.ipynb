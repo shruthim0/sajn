{
 "cells": [
  {
   "cell_type": "markdown",
   "metadata": {},
   "source": [
    "# Javascript Web Page using an API\n",
    "> A discussion on the frontend usage of an API. This is about creating a page that is well organized and updates based on the backend code created for the api.\n",
    "- toc: false\n",
    "- comments: false\n",
    "- permalink: /techtalk/webfrontend\n",
    "- categories: [3.B, 5.A, 5.B, C5.0, C7.0, C7.6]\n",
    "- type: pbl\n",
    "- week: 9"
   ]
  },
  {
   "cell_type": "markdown",
   "metadata": {},
   "source": [
    "The code below holds the info that is being <mark>generated into an HTML table</mark>.\n",
    "\n",
    "Key things to know:\n",
    "- < table > creates a TABLE \n",
    "- < tr > creates a ROW\n",
    "- < th > makes the text a column HEADER\n",
    "- < tbody  id = \"results\" > defines an element id, to be used within JavaScript\n"
   ]
  },
  {
   "cell_type": "code",
   "execution_count": null,
   "metadata": {
    "vscode": {
     "languageId": "html"
    }
   },
   "outputs": [],
   "source": [
    "<!-- HTML table fragment for page -->\n",
    "<table>\n",
    "  <thead>\n",
    "  <tr>\n",
    "    <th>Joke</th>\n",
    "    <th>HaHa</th>\n",
    "    <th>Boohoo</th>\n",
    "  </tr>\n",
    "  </thead>\n",
    "  <tbody id=\"result\">\n",
    "    <!-- javascript generated data -->\n",
    "  </tbody>\n",
    "</table>"
   ]
  },
  {
   "cell_type": "markdown",
   "metadata": {},
   "source": [
    "Constant variables are declared here with keyword const\n",
    "\n",
    "Key things to know:\n",
    "- The document object \"result\" represents table body in the HTML above.\n",
    "- If you want to access any element in an HTML page in JavaScript, you always start by accessing the document object.  In this case, we are accessing \"result\" and defining a \"resultContainer\"\n",
    "- In the code, in following cells, document elements are created and organized for each Joke, each is added to the \"resultContainer\" as a row in the table body.\n",
    "- Accessing the api is done using the variables url and options, this is setup to fetch the Jokes from the backend"
   ]
  },
  {
   "cell_type": "code",
   "execution_count": null,
   "metadata": {
    "vscode": {
     "languageId": "javascript"
    }
   },
   "outputs": [],
   "source": [
    "// prepare HTML defined \"result\" container for new output\n",
    "const resultContainer = document.getElementById(\"result\");\n",
    "\n",
    "// keys for joke reactions\n",
    "const HAHA = \"haha\";\n",
    "const BOOHOO = \"boohoo\";\n",
    "\n",
    "// prepare fetch urls\n",
    "const url = \"https://flask.nighthawkcodingsociety.com/api/jokes\";\n",
    "const like_url = url + \"/like/\";  // haha reaction\n",
    "const jeer_url = url + \"/jeer/\";  // boohoo reaction\n",
    "\n",
    "// prepare fetch GET options\n",
    "const options = {\n",
    "  method: 'GET', // *GET, POST, PUT, DELETE, etc.\n",
    "  mode: 'cors', // no-cors, *cors, same-origin\n",
    "  cache: 'default', // *default, no-cache, reload, force-cache, only-if-cached\n",
    "  credentials: 'omit', // include, *same-origin, omit\n",
    "  headers: {\n",
    "    'Content-Type': 'application/json'\n",
    "    // 'Content-Type': 'application/x-www-form-urlencoded',\n",
    "  },\n",
    "};\n",
    "\n",
    "// prepare fetch PUT options, clones with JS Spread Operator (...)\n",
    "const put_options = {...options, method: 'PUT'}; // clones and replaces method"
   ]
  },
  {
   "cell_type": "markdown",
   "metadata": {},
   "source": [
    "The below code uses a function called fetch to gather the data from the backend.   \n",
    "\n",
    "Key things to understand:\n",
    "- The \"url\" \"response\" is checked in case the site is down and returns an error\n",
    "- On successful fetch, the code places each Joke in the HTML table body using a \"for\" loop and creating document elements from each \"row\" of the fetched \"data\".\n",
    "- The creation of each Haha and Boohoo \"onclick\" \"button\" is also done in the same loop.\n",
    "- Updates to backend are setup to occur with each onclick, each click calls the \"reaction\" function"
   ]
  },
  {
   "cell_type": "code",
   "execution_count": null,
   "metadata": {
    "vscode": {
     "languageId": "javascript"
    }
   },
   "outputs": [],
   "source": [
    "// fetch the API\n",
    "fetch(url, options)\n",
    "  // response is a RESTful \"promise\" on any successful fetch\n",
    "  .then(response => {\n",
    "    // check for response errors\n",
    "    if (response.status !== 200) {\n",
    "        error('GET API response failure: ' + response.status);\n",
    "        return;\n",
    "    }\n",
    "    // valid response will have JSON data\n",
    "    response.json().then(data => {\n",
    "        console.log(data);\n",
    "        for (const row of data) {\n",
    "          // make \"tr element\" for each \"row of data\"\n",
    "          const tr = document.createElement(\"tr\");\n",
    "          \n",
    "          // td for joke cell\n",
    "          const joke = document.createElement(\"td\");\n",
    "            joke.innerHTML = row.id + \". \" + row.joke;  // add fetched data to innerHTML\n",
    "\n",
    "          // td for haha cell with onclick actions\n",
    "          const haha = document.createElement(\"td\");\n",
    "            const haha_but = document.createElement('button');\n",
    "            haha_but.id = HAHA+row.id   // establishes a HAHA JS id for cell\n",
    "            haha_but.innerHTML = row.haha;  // add fetched \"haha count\" to innerHTML\n",
    "            haha_but.onclick = function () {\n",
    "              // onclick function call with \"like parameters\"\n",
    "              reaction(HAHA, like_url+row.id, haha_but.id);  \n",
    "            };\n",
    "            haha.appendChild(haha_but);  // add \"haha button\" to haha cell\n",
    "\n",
    "          // td for boohoo cell with onclick actions\n",
    "          const boohoo = document.createElement(\"td\");\n",
    "            const boohoo_but = document.createElement('button');\n",
    "            boohoo_but.id = BOOHOO+row.id  // establishes a BOOHOO JS id for cell\n",
    "            boohoo_but.innerHTML = row.boohoo;  // add fetched \"boohoo count\" to innerHTML\n",
    "            boohoo_but.onclick = function () {\n",
    "              // onclick function call with \"jeer parameters\"\n",
    "              reaction(BOOHOO, jeer_url+row.id, boohoo_but.id);  \n",
    "            };\n",
    "            boohoo.appendChild(boohoo_but);  // add \"boohoo button\" to boohoo cell\n",
    "            \n",
    "          // this builds ALL td's (cells) into tr (row) element\n",
    "          tr.appendChild(joke);\n",
    "          tr.appendChild(haha);\n",
    "          tr.appendChild(boohoo);\n",
    "\n",
    "          // this adds all the tr (row) work above to the HTML \"result\" container\n",
    "          resultContainer.appendChild(tr);\n",
    "        }\n",
    "    })\n",
    "})\n",
    "\n",
    "// catch fetch errors (ie Nginx ACCESS to server blocked)\n",
    ".catch(err => {\n",
    "  error(err + \" \" + url);\n",
    "});"
   ]
  },
  {
   "cell_type": "markdown",
   "metadata": {},
   "source": [
    "The below code uses fetch to update backend data using \"put_options\". The purpose is to update Hahaa and Bohoo counters in backend.\n",
    "\n",
    "Key things to understand:\n",
    "- The \"url\" \"response\" is checked to verify update occurred\n",
    "- The element id of button clicked is updated with the data returned from the API.  \n",
    "- Note, the elemID is received as parameter.  This data was setup when the button was created in former cell."
   ]
  },
  {
   "cell_type": "code",
   "execution_count": null,
   "metadata": {
    "vscode": {
     "languageId": "javascript"
    }
   },
   "outputs": [],
   "source": [
    "// Reaction function to likes or jeers user actions\n",
    "function reaction(type, put_url, elemID) {\n",
    "\n",
    "  // fetch the API\n",
    "  fetch(put_url, put_options)\n",
    "  // response is a RESTful \"promise\" on any successful fetch\n",
    "  .then(response => {\n",
    "    // check for response errors\n",
    "    if (response.status !== 200) {\n",
    "        error(\"PUT API response failure: \" + response.status)\n",
    "        return;  // api failure\n",
    "    }\n",
    "    // valid response will have JSON data\n",
    "    response.json().then(data => {\n",
    "        console.log(data);\n",
    "        // Likes or Jeers updated/incremented\n",
    "        if (type === HAHA) // like data element\n",
    "          document.getElementById(elemID).innerHTML = data.haha;  // fetched haha data assigned to haha Document Object Model (DOM)\n",
    "        else if (type === BOOHOO) // jeer data element\n",
    "          document.getElementById(elemID).innerHTML = data.boohoo;  // fetched boohoo data assigned to boohoo Document Object Model (DOM)\n",
    "        else\n",
    "          error(\"unknown type: \" + type);  // should never occur\n",
    "    })\n",
    "  })\n",
    "  // catch fetch errors (ie Nginx ACCESS to server blocked)\n",
    "  .catch(err => {\n",
    "    error(err + \" \" + put_url);\n",
    "  });\n",
    "  \n",
    "}\n",
    "  \n",
    "// Something went wrong with actions or responses\n",
    "function error(err) {\n",
    "  // log as Error in console\n",
    "  console.error(err);\n",
    "  // append error to resultContainer\n",
    "  const tr = document.createElement(\"tr\");\n",
    "  const td = document.createElement(\"td\");\n",
    "  td.innerHTML = err;\n",
    "  tr.appendChild(td);\n",
    "  resultContainer.appendChild(tr);\n",
    "}"
   ]
  },
  {
   "cell_type": "markdown",
   "metadata": {},
   "source": [
    "# Hacks\n",
    "> The code below relates to the rapidapi you worked with last week. \n",
    "- What are some similarities you see with the javascript for the jokes api? \n",
    "- In a blogpost, break up the code in cells like done above and try to describe what this code is doing. "
   ]
  },
  {
   "cell_type": "markdown",
   "metadata": {},
   "source": [
    "<!-- HTML table fragment for page -->\n",
    "<table>\n",
    "  <thead>\n",
    "  <tr>\n",
    "    <th>Time</th>     <!--header cells-->\n",
    "    <th>All-time Cases</th>\n",
    "    <th>Recorded Deaths</th>\n",
    "    <th>Active Cases</th>\n",
    "  </tr>\n",
    "  </thead>\n",
    "  <tbody>\n",
    "    <td id=\"time\"></td>      <!--td makes cells-->\n",
    "    <td id=\"total_cases\"></td>\n",
    "    <td id=\"total_deaths\"></td>\n",
    "    <td id=\"active_cases\"></td>\n",
    "  </tbody>\n",
    "</table>\n",
    "\n",
    "<table>    <!--new table-->\n",
    "  <thead>\n",
    "  <tr>\n",
    "    <th>Country</th>       <!--header cells-->\n",
    "    <th>All-time Cases</th> \n",
    "    <th>Recorded Deaths</th>\n",
    "    <th>Active Cases</th>\n",
    "  </tr>\n",
    "  </thead>\n",
    "  <tbody id=\"result\">\n",
    "    <!-- generated rows -->\n",
    "  </tbody>\n",
    "</table>\n",
    "\n",
    "<!-- Script is layed out in a sequence (no function) and will execute when page is loaded -->\n",
    "<script>\n"
   ]
  },
  {
   "cell_type": "code",
   "execution_count": 5,
   "metadata": {
    "vscode": {
     "languageId": "javascript"
    }
   },
   "outputs": [],
   "source": [
    "\n",
    "def startGame():\n",
    "    done = False\n",
    "    clock = pygame.time.Clock()\n",
    "    fps = 25\n",
    "    game = Tetris(20, 10)\n",
    "    counter = 0\n",
    "    pressing_down = False\n",
    "    \n",
    "    while not done:\n",
    "        #Create a new block if there is no moving block\n",
    "        if game.block is None:\n",
    "            game.new_block()\n",
    "        if game.nextBlock is None:\n",
    "            game.next_block()\n",
    "        counter += 1 #Keeping track of the time \n",
    "        if counter > 100000:\n",
    "            counter = 0\n",
    "        #Moving the block continuously with time or when down key is pressed\n",
    "        if counter % (fps // game.level // 2) == 0 or pressing_down:\n",
    "            if game.state == \"start\":\n",
    "                game.go_down()\n",
    "        #Checking which key is pressed and running corresponding function\n",
    "        for event in pygame.event.get():\n",
    "            if event.type == pygame.QUIT:\n",
    "                done = True\n",
    "            if event.type == pygame.KEYDOWN:\n",
    "                if event.key == pygame.K_UP:\n",
    "                    game.rotate()\n",
    "                if event.key == pygame.K_DOWN:\n",
    "                    game.moveDown()\n",
    "                if event.key == pygame.K_LEFT:\n",
    "                    game.moveHoriz(-1)\n",
    "                if event.key == pygame.K_RIGHT:\n",
    "                    game.moveHoriz(1)\n",
    "                if event.key == pygame.K_SPACE:\n",
    "                    game.moveBottom()\n",
    "                if event.key == pygame.K_ESCAPE:\n",
    "                    game.__init__(20, 10)\n",
    "        screen.fill('#FFFFFF')\n",
    "        #Updating the game board regularly\n",
    "        for i in range(game.height):\n",
    "            for j in range(game.width):\n",
    "                pygame.draw.rect(screen, '#B2BEB5', [game.x + game.zoom * j, game.y + game.zoom * i, game.zoom, game.zoom], 1)\n",
    "                if game.field[i][j] > 0:\n",
    "                    pygame.draw.rect(screen, shapeColors[game.field[i][j]],\n",
    "                                     [game.x + game.zoom * j + 1, game.y + game.zoom * i + 1, game.zoom - 2, game.zoom - 1])\n",
    "        #Updating the board with the moving block\n",
    "        if game.block is not None:\n",
    "            for i in range(4):\n",
    "                for j in range(4):\n",
    "                    p = i * 4 + j\n",
    "                    if p in game.block.image():\n",
    "                        pygame.draw.rect(screen, shapeColors[game.block.color],\n",
    "                                         [game.x + game.zoom * (j + game.block.x) + 1,\n",
    "                                          game.y + game.zoom * (i + game.block.y) + 1,\n",
    "                                          game.zoom - 2, game.zoom - 2])\n",
    "        #Showing the score\n",
    "        font = pygame.font.SysFont('Calibri', 40, True, False)\n",
    "        font1 = pygame.font.SysFont('Calibri', 25, True, False)\n",
    "        text = font.render(\"Score: \" + str(game.score), True, '#000000')\n",
    "        text_game_over = font.render(\"Game Over\", True, '#000000')\n",
    "        text_game_over1 = font.render(\"Press ESC\", True, '#000000')\n",
    "        #Ending the game if state is gameover\n",
    "        screen.blit(text, [300, 0])\n",
    "        if game.state == \"gameover\":\n",
    "            screen.blit(text_game_over, [300, 200])\n",
    "            screen.blit(text_game_over1, [300, 265])\n",
    "       \n",
    "        game.draw_next_block(screen)\n",
    "        pygame.display.flip()\n",
    "        clock.tick(fps)    "
   ]
  }
 ],
 "metadata": {
  "kernelspec": {
   "display_name": "Python 3.8.10 64-bit",
   "language": "python",
   "name": "python3"
  },
  "language_info": {
   "codemirror_mode": {
    "name": "ipython",
    "version": 3
   },
   "file_extension": ".py",
   "mimetype": "text/x-python",
   "name": "python",
   "nbconvert_exporter": "python",
   "pygments_lexer": "ipython3",
   "version": "3.8.10"
  },
  "orig_nbformat": 4,
  "vscode": {
   "interpreter": {
    "hash": "916dbcbb3f70747c44a77c7bcd40155683ae19c65e1c03b4aa3499c5328201f1"
   }
  }
 },
 "nbformat": 4,
 "nbformat_minor": 2
}
