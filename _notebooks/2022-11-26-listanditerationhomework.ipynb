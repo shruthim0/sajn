{
 "cells": [
  {
   "cell_type": "markdown",
   "metadata": {},
   "source": [
    "# Lists and Iteration Homework and Challenges\n",
    "> Try to complete this to show understanding! Copy this into your notebook so you can also take notes as we lecture. Make a copy of this notebook to your own repository to take notes, do the class challenges, and to access the homework.\n",
    "- title: Lists and Iteration Homework\n",
    "- toc: true\n",
    "- permalink: /homework/"
   ]
  },
  {
   "cell_type": "markdown",
   "metadata": {},
   "source": [
    "## Overview and Notes:  3.10 - Lists\n",
    "- Make sure you complete the challenge in the challenges section while we present the lesson! \n",
    "\n",
    "\n",
    "\n",
    "Fill out the empty boxes: \n",
    "\n",
    "|   Pseudocode Operation  | Python Syntax |                                                           Description                                                          |\n",
    "|:-----------------------:|---------------|:------------------------------------------------------------------------------------------------------------------------------:|\n",
    "|        aList[i]        |       aList[i]        | _Accesses the element of aList at index i_                                                                                     |\n",
    "|       x ← aList[i]      |    x = aList(i)        | _Assigns the element of aList at index i <br>to a variable 'x'_                                                                |\n",
    "|    aList[i] ← x    |      aList(i) = x         | _Assigns the value of a variable 'x' to <br>the element of a List at index i_                                                  |\n",
    "|   aList[i] ← aList[j]   |  aList[i] = aList[j]   | _Assigns value of aList[j] to aList[i]_                                                                                        |\n",
    "| INSERT(aList, i, value) |       aList.insert(i, value)        | _value is placed at index i in aList. Any <br>element at an index greater than i will shift<br>one position to the right. _    |\n",
    "|   APPEND(aList, value)  |aList.append(value) | value is added as an element to the end of a List and length of aList is increased by 1 |\n",
    "|  REMOVE(aList, i)   | aList.pop(i)<br>OR<br>aList.remove(value) | _Removes item at index i and any values at <br>indices greater than i shift to the left. <br>Length of aList decreased by 1. _ |\n"
   ]
  },
  {
   "cell_type": "markdown",
   "metadata": {},
   "source": [
    "## Overview and Notes:  3.8 and 3.10\n",
    "\n",
    "\n",
    "\n",
    "\n"
   ]
  },
  {
   "cell_type": "markdown",
   "metadata": {},
   "source": [
    "- lists are collections of data\n",
    "- indexes: position\n",
    "    - most languages start at zero (but cb starts at 1)\n",
    "    - used when calling a certain value from a list\n",
    "\n",
    "- operations that can be done on lists\n",
    "    - append values\n",
    "    - assign a value from a list to a variable\n",
    "    - insert a value at a specific index in the list\n",
    "    - remove values from lists\n",
    "\n",
    "- loops!\n",
    "    - for loops: useful for applying a function to everything in a list one-by-one\n",
    "        - for x in mylist:\n",
    "    - recursive loops: good when you want to limit the starting point\n",
    "    - while loops: don't require a function that is then called again within the original function until a condition is met. perform all the way through\n",
    "        - while i> 0:"
   ]
  },
  {
   "cell_type": "markdown",
   "metadata": {},
   "source": [
    "## Homework Assignment\n",
    "\n",
    "Instead of us making a quiz for you to take, we would like YOU to make a quiz about the material we reviewed.\n",
    "\n",
    "We would like you to <mark>input questions into a list</mark>, and use some sort of iterative system to print the questions, detect an input, and determine if you answered correctly. There should be *at least* <mark>five questions</mark>, each with *at least* <mark>three possible answers</mark>.\n",
    "\n",
    "You may use the template below as a framework for this assignment."
   ]
  },
  {
   "cell_type": "code",
   "execution_count": 45,
   "metadata": {},
   "outputs": [
    {
     "name": "stdout",
     "output_type": "stream",
     "text": [
      "For this quiz on lists and iteration, please answer using lowercase letters\n",
      "Question: What is a list? \n",
      " a) a collection of data \n",
      " b) an iterating function \n",
      " c) a type of loop\n",
      "a good job!\n",
      "Question: ______ adds data to a list and using the _____ you can accesses specific data \n",
      " a) a add and remove \n",
      " b) append and index \n",
      " c) insert and select\n",
      "b good job!\n",
      "Question: The three types of loops are: \n",
      " a) for, recursive, while \n",
      " b) recursive, while, on event \n",
      " c) while, after, for\n",
      "wrong :(\n",
      "Question: Dictionarys use ___ brackets in python \n",
      " a) square \n",
      " b) curly \n",
      " c) parenthetical\n",
      "a good job!\n",
      "Question: For loops are good when you want to: \n",
      " a) control number of iterations \n",
      " b) use strings instead of integers \n",
      " c) apply the same function to an entire list\n",
      "d good job!\n"
     ]
    }
   ],
   "source": [
    "print(\"For this quiz on lists and iteration, please answer using lowercase letters\")\n",
    "\n",
    "def questionandanswer(prompt, answer):   # defines question_and_answer\n",
    "    print(\"Question: \" + prompt)      # asks the question\n",
    "    msg = input()                  # the user's input/answer is taken\n",
    "    if msg == answer:\n",
    "        print(msg + \" good job!\")\n",
    "    else:\n",
    "        print(\"wrong :(\")\n",
    "\n",
    "qa = {\n",
    "    \"What is a list? \\n a) a collection of data \\n b) an iterating function \\n c) a type of loop\" : \"a\",\n",
    "    \"______ adds data to a list and using the _____ you can accesses specific data \\n a) a add and remove \\n b) append and index \\n c) insert and select\": \"b\",\n",
    "    \"The three types of loops are: \\n a) for, recursive, while \\n b) recursive, while, on event \\n c) while, after, for\" : \"b\",\n",
    "    \"Dictionarys use ___ brackets in python \\n a) square \\n b) curly \\n c) parenthetical\" : \"a\",\n",
    "    \"For loops are good when you want to: \\n a) control number of iterations \\n b) use strings instead of integers \\n c) apply the same function to an entire list\" : \"c\",\n",
    "}\n",
    "    \n",
    "correct = 0\n",
    "for item in qa:\n",
    "    num = questionandanswer(item, qa[item])"
   ]
  },
  {
   "cell_type": "markdown",
   "metadata": {},
   "source": [
    "### Hacks\n",
    "\n",
    "Here are some ideas of things you can do to make your program even cooler. Doing these will raise your grade if done correctly.\n",
    "\n",
    "- Add more than five questions with more than three answer choices\n",
    "- Randomize the order in which questions/answers are output\n",
    "- At the end, display the user's score and determine whether or not they passed\n",
    "\n",
    "## Challenges\n",
    "\n",
    "<mark>Important!</mark> You don't have to complete these challenges completely perfectly, but you will be marked down if you don't show evidence of at least having tried these challenges in the time we gave during the lesson.\n",
    "\n",
    "### 3.10 Challenge\n",
    "\n",
    "Follow the instructions in the code comments."
   ]
  },
  {
   "cell_type": "code",
   "execution_count": 6,
   "metadata": {},
   "outputs": [
    {
     "name": "stdout",
     "output_type": "stream",
     "text": [
      "carrots\n"
     ]
    },
    {
     "data": {
      "text/plain": [
       "['apples',\n",
       " 'eggs',\n",
       " 'artichokes',\n",
       " 'oranges',\n",
       " 'carrots',\n",
       " 'cucumbers',\n",
       " 'artichokes']"
      ]
     },
     "execution_count": 6,
     "metadata": {},
     "output_type": "execute_result"
    }
   ],
   "source": [
    "grocery_list = ['apples', 'milk', 'oranges', 'carrots', 'cucumbers']\n",
    "\n",
    "# Print the fourth item in the list\n",
    "\n",
    "grocery_list[3]\n",
    "\n",
    "# Now, assign the fourth item in the list to a variable, x and then print the variable\n",
    "x = grocery_list[3]\n",
    "print(x)\n",
    "\n",
    "# Add these two items at the end of the list : umbrellas and artichokes\n",
    "grocery_list.append(\"umbrellas\" and \"artichokes\")\n",
    "\n",
    "# Insert the item eggs as the third item of the list \n",
    "grocery_list.insert(2, \"eggs\")\n",
    "\n",
    "# Remove milk from the list \n",
    "grocery_list.remove(\"milk\")\n",
    "\n",
    "# Assign the element at the end of the list to index 2. Print index 2 to check\n",
    "grocery_list.insert(2, \"artichokes\")\n",
    "\n",
    "# Print the entire list, does it match ours ? \n",
    "grocery_list\n",
    "\n",
    "# Expected output\n",
    "# carrots\n",
    "# carrots\n",
    "# artichokes\n",
    "# ['apples', 'eggs', 'artichokes', 'carrots', 'cucumbers', 'umbrellas', 'artichokes']"
   ]
  },
  {
   "cell_type": "markdown",
   "metadata": {},
   "source": [
    "### 3.8 Challenge\n",
    "\n",
    "Create a loop that <mark>converts 8-bit binary values</mark> from the provided list into <mark>decimal numbers</mark>. Then, after the value is determined, <mark>remove all the values greater than 100</mark> from the list using a list-related function you've been taught before. <mark>Print the new list</mark> when done.\n",
    "\n",
    "Once you've done this with one of the types of loops discussed in this lesson, create a function that does the same thing with a *different* type of loop."
   ]
  },
  {
   "cell_type": "code",
   "execution_count": 7,
   "metadata": {},
   "outputs": [
    {
     "name": "stdout",
     "output_type": "stream",
     "text": [
      "73\n",
      "55\n"
     ]
    }
   ],
   "source": [
    "binarylist = [\"01001001\", \"10101010\", \"10010110\", \"00110111\", \"11101100\", \"11010001\", \"10000001\"]\n",
    "decimal_list = []\n",
    "\n",
    "for x in binarylist:\n",
    "    decimal = int(x,2) \n",
    "    decimal_list.append(decimal)\n",
    "\n",
    "max_valid = 100 # set max value\n",
    "for x in range(len(decimal_list)): # for each thing in decimal list\n",
    "    if decimal_list[x] < max_valid: # if value is smaller than the max\n",
    "        print(decimal_list[x]) # print it!"
   ]
  }
 ],
 "metadata": {
  "kernelspec": {
   "display_name": "Python 3.8.10 64-bit",
   "language": "python",
   "name": "python3"
  },
  "language_info": {
   "codemirror_mode": {
    "name": "ipython",
    "version": 3
   },
   "file_extension": ".py",
   "mimetype": "text/x-python",
   "name": "python",
   "nbconvert_exporter": "python",
   "pygments_lexer": "ipython3",
   "version": "3.8.10 (default, Jun 22 2022, 20:18:18) \n[GCC 9.4.0]"
  },
  "orig_nbformat": 4,
  "vscode": {
   "interpreter": {
    "hash": "916dbcbb3f70747c44a77c7bcd40155683ae19c65e1c03b4aa3499c5328201f1"
   }
  }
 },
 "nbformat": 4,
 "nbformat_minor": 2
}
