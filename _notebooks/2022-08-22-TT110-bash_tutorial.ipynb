{
 "cells": [
  {
   "cell_type": "markdown",
   "metadata": {},
   "source": [
    "# Bash Tutorial\n",
    "> A brief overview of Bash, on your way to becoming a Linux expert.  When a computer boots up, a kernel (MacOS, Windows, Linux) is started.  This kernel provides a shell that allows user to interact with a most basic set of commands.  Typically, the casual user will not interact with the shell as a Desktop User Interface is started by the computer boot up process.  To activate the shell directly, users will run a \"terminal\" through the Desktop, VS Code or activate \"console\" while on a cloud computer like AWS.\n",
    "\n",
    "- toc: true\n",
    "- comments: true\n",
    "- permalink: /techtalk/bash\n",
    "- image: /images/bash.jpeg\n",
    "- categories: [techtalk]"
   ]
  },
  {
   "cell_type": "markdown",
   "metadata": {},
   "source": [
    "## Prerequisites for Bash on Jupyter\n",
    "> Being able to find a Bash Reference.  Here is a [Bash Cheat Sheet](https://www.pcwdld.com/bash-cheat-sheet)\n",
    "\n",
    "> Install the Bash Kernel for Jupyter notebooks.  Expectations are pip3 and python3 are defined within the path.  The bash shell allowed construction of this tutorial.\n",
    "\n",
    "- pip install bash_kernel\n",
    "- python -m bash_kernel.install\n",
    "\n",
    "Selecting a kernel in \"code --project--\" or \"jupyter notebook --file.ipynb--\" that have bash in options.\n",
    "![](images/kernels.png)\n"
   ]
  },
  {
   "cell_type": "markdown",
   "metadata": {},
   "source": [
    "## Prerequisites for Project Directory\n",
    "> Practice pulling code from git to your machine. This will create a project directory and add APCSP github project to the directory.  There is conditional logic to make sure that directory and pull only happen if it does not (!) exist.\n",
    "\n",
    "- Hack: Change variables, make new directory, clone to that directory."
   ]
  },
  {
   "cell_type": "code",
   "execution_count": 1,
   "metadata": {
    "vscode": {
     "languageId": "shellscript"
    }
   },
   "outputs": [
    {
     "name": "stdout",
     "output_type": "stream",
     "text": [
      "Using conditional statement to create a project directory and project\n",
      "Directory /home/shruthim/vscode exists.\n",
      "Directory /home/shruthim/vscode/APCSP exists.\n"
     ]
    }
   ],
   "source": [
    "echo \"Using conditional statement to create a project directory and project\"\n",
    "\n",
    "# Variable section\n",
    "export project_dir=$HOME/vscode  # change vscode to different name to test git clone\n",
    "export project=$project_dir/APCSP  # change APCSP to name of project from git clone\n",
    "export project_repo=\"https://github.com/nighthawkcoders/APCSP.git\"  # change to project of choice\n",
    "\n",
    "cd ~    # start in home directory\n",
    "\n",
    "# Conditional block to make a project directory\n",
    "if [ ! -d $project_dir ]\n",
    "then \n",
    "    echo \"Directory $project_dir does not exists... makinng directory $project_dir\"\n",
    "    mkdir -p $project_dir\n",
    "fi\n",
    "echo \"Directory $project_dir exists.\" \n",
    "\n",
    "# Conditional block to git clone a project from project_repo\n",
    "if [ ! -d $project ]\n",
    "then\n",
    "    echo \"Directory $project does not exists... cloning $project_repo\"\n",
    "    cd $project_dir\n",
    "    git clone $project_repo\n",
    "    cd ~\n",
    "fi\n",
    "echo \"Directory $project exists.\" "
   ]
  },
  {
   "cell_type": "markdown",
   "metadata": {},
   "source": [
    "### Look inside Fastpages/Github page project\n",
    "> All computers contain files and directories.  The clone brought more files from cloud to your machine.  Using the bash shell you will see some commands that show and interact with files and directories.\n",
    "\n",
    "- \"ls\" lists computer files in Unix and Unix-like operating systems\n",
    "- \"cd\" offers way to navigate and change working directory\n",
    "- \"pwd\" print working directory\n",
    "- \"echo\" used to display line of text/string that are passed as an argument"
   ]
  },
  {
   "cell_type": "code",
   "execution_count": 2,
   "metadata": {
    "vscode": {
     "languageId": "shellscript"
    }
   },
   "outputs": [
    {
     "name": "stdout",
     "output_type": "stream",
     "text": [
      "Navigate to project, then navigate to area wwhere files were cloned\n",
      "/home/shruthim/vscode/APCSP\n",
      "\n",
      "list top level or root of files with project pulled from github\n",
      "\u001b[0m\u001b[01;32mGemfile\u001b[0m    \u001b[01;34m_action_files\u001b[0m    \u001b[01;34m_layouts\u001b[0m    \u001b[01;34m_posts\u001b[0m  \u001b[01;32mdocker-compose.yml\u001b[0m\n",
      "LICENSE    _config.yml      \u001b[01;34m_notebooks\u001b[0m  \u001b[01;34m_sass\u001b[0m   \u001b[01;34mimages\u001b[0m\n",
      "\u001b[01;32mMakefile\u001b[0m   \u001b[01;34m_fastpages_docs\u001b[0m  \u001b[01;34m_pages\u001b[0m      \u001b[01;34m_word\u001b[0m   index.html\n",
      "\u001b[01;32mREADME.md\u001b[0m  \u001b[01;34m_includes\u001b[0m        \u001b[01;34m_plugins\u001b[0m    \u001b[01;34massets\u001b[0m  \u001b[01;34mpython\u001b[0m\n",
      "\n",
      "list again with hidden files pulled from github\n",
      "\u001b[0m\u001b[01;34m.\u001b[0m                   .gitignore  \u001b[01;34m_action_files\u001b[0m    \u001b[01;34m_pages\u001b[0m    \u001b[01;32mdocker-compose.yml\u001b[0m\n",
      "\u001b[01;34m..\u001b[0m                  \u001b[01;34m.vscode\u001b[0m     _config.yml      \u001b[01;34m_plugins\u001b[0m  \u001b[01;34mimages\u001b[0m\n",
      ".devcontainer.json  \u001b[01;32mGemfile\u001b[0m     \u001b[01;34m_fastpages_docs\u001b[0m  \u001b[01;34m_posts\u001b[0m    index.html\n",
      "\u001b[01;34m.git\u001b[0m                LICENSE     \u001b[01;34m_includes\u001b[0m        \u001b[01;34m_sass\u001b[0m     \u001b[01;34mpython\u001b[0m\n",
      ".gitattributes      \u001b[01;32mMakefile\u001b[0m    \u001b[01;34m_layouts\u001b[0m         \u001b[01;34m_word\u001b[0m\n",
      "\u001b[01;34m.github\u001b[0m             \u001b[01;32mREADME.md\u001b[0m   \u001b[01;34m_notebooks\u001b[0m       \u001b[01;34massets\u001b[0m\n",
      "\n",
      "list all files in long format\n",
      "total 120\n",
      "drwxr-xr-x 18 shruthim shruthim  4096 Aug 23 13:43 \u001b[0m\u001b[01;34m.\u001b[0m\n",
      "drwxr-xr-x  4 shruthim shruthim  4096 Aug 23 13:43 \u001b[01;34m..\u001b[0m\n",
      "-rw-r--r--  1 shruthim shruthim   420 Aug 23 13:43 .devcontainer.json\n",
      "drwxr-xr-x  8 shruthim shruthim  4096 Aug 25 13:13 \u001b[01;34m.git\u001b[0m\n",
      "-rw-r--r--  1 shruthim shruthim    84 Aug 23 13:43 .gitattributes\n",
      "drwxr-xr-x  4 shruthim shruthim  4096 Aug 23 13:43 \u001b[01;34m.github\u001b[0m\n",
      "-rw-r--r--  1 shruthim shruthim   917 Aug 23 13:43 .gitignore\n",
      "drwxr-xr-x  2 shruthim shruthim  4096 Aug 23 13:43 \u001b[01;34m.vscode\u001b[0m\n",
      "-rwxr-xr-x  1 shruthim shruthim  1304 Aug 23 13:43 \u001b[01;32mGemfile\u001b[0m\n",
      "-rw-r--r--  1 shruthim shruthim 11351 Aug 23 13:43 LICENSE\n",
      "-rwxr-xr-x  1 shruthim shruthim  1422 Aug 23 13:43 \u001b[01;32mMakefile\u001b[0m\n",
      "-rwxr-xr-x  1 shruthim shruthim  3614 Aug 23 13:43 \u001b[01;32mREADME.md\u001b[0m\n",
      "drwxr-xr-x  2 shruthim shruthim  4096 Aug 23 13:43 \u001b[01;34m_action_files\u001b[0m\n",
      "-rw-r--r--  1 shruthim shruthim  3716 Aug 23 13:43 _config.yml\n",
      "drwxr-xr-x  2 shruthim shruthim  4096 Aug 23 13:43 \u001b[01;34m_fastpages_docs\u001b[0m\n",
      "drwxr-xr-x  2 shruthim shruthim  4096 Aug 23 13:43 \u001b[01;34m_includes\u001b[0m\n",
      "drwxr-xr-x  2 shruthim shruthim  4096 Aug 23 13:43 \u001b[01;34m_layouts\u001b[0m\n",
      "drwxr-xr-x  3 shruthim shruthim  4096 Aug 25 13:13 \u001b[01;34m_notebooks\u001b[0m\n",
      "drwxr-xr-x  2 shruthim shruthim  4096 Aug 23 13:43 \u001b[01;34m_pages\u001b[0m\n",
      "drwxr-xr-x  2 shruthim shruthim  4096 Aug 23 13:43 \u001b[01;34m_plugins\u001b[0m\n",
      "drwxr-xr-x  2 shruthim shruthim  4096 Aug 23 13:43 \u001b[01;34m_posts\u001b[0m\n",
      "drwxr-xr-x  3 shruthim shruthim  4096 Aug 23 13:43 \u001b[01;34m_sass\u001b[0m\n",
      "drwxr-xr-x  2 shruthim shruthim  4096 Aug 23 13:43 \u001b[01;34m_word\u001b[0m\n",
      "drwxr-xr-x  4 shruthim shruthim  4096 Aug 23 13:43 \u001b[01;34massets\u001b[0m\n",
      "-rwxr-xr-x  1 shruthim shruthim  1136 Aug 23 13:43 \u001b[01;32mdocker-compose.yml\u001b[0m\n",
      "drwxr-xr-x  5 shruthim shruthim  4096 Aug 23 13:43 \u001b[01;34mimages\u001b[0m\n",
      "-rw-r--r--  1 shruthim shruthim  1061 Aug 23 13:43 index.html\n",
      "drwxr-xr-x  2 shruthim shruthim  4096 Aug 23 13:43 \u001b[01;34mpython\u001b[0m\n"
     ]
    }
   ],
   "source": [
    "# You must run cells above to define variable and project\n",
    "\n",
    "echo \"Navigate to project, then navigate to area wwhere files were cloned\"\n",
    "cd $project\n",
    "pwd\n",
    "\n",
    "echo \"\"\n",
    "echo \"list top level or root of files with project pulled from github\"\n",
    "ls\n",
    "\n",
    "echo \"\"\n",
    "echo \"list again with hidden files pulled from github\"\n",
    "ls -a   # hidden files flag, many shell commands have flags\n",
    "\n",
    "echo \"\"\n",
    "echo \"list all files in long format\"\n",
    "ls -al   # all files and long listing"
   ]
  },
  {
   "cell_type": "code",
   "execution_count": 3,
   "metadata": {
    "vscode": {
     "languageId": "shellscript"
    }
   },
   "outputs": [
    {
     "name": "stdout",
     "output_type": "stream",
     "text": [
      "Look for posts\n",
      "/home/shruthim/vscode/APCSP/_posts\n",
      "total 228\n",
      "-rw-r--r-- 1 shruthim shruthim 21306 Aug 23 13:43 2022-06-01-TT160-deploy.md\n",
      "-rw-r--r-- 1 shruthim shruthim  5861 Aug 23 13:43 2022-07-07-PBL-binary.md\n",
      "-rw-r--r-- 1 shruthim shruthim  3085 Aug 23 13:43 2022-07-08-PBL-grade_calc.md\n",
      "-rw-r--r-- 1 shruthim shruthim  3698 Aug 23 13:43 2022-07-08-PBL-graph.md\n",
      "-rw-r--r-- 1 shruthim shruthim  5729 Aug 23 13:43 2022-07-08-PBL-life.md\n",
      "-rw-r--r-- 1 shruthim shruthim 14387 Aug 23 13:43 2022-07-08-PBL-snake.md\n",
      "-rw-r--r-- 1 shruthim shruthim   334 Aug 23 13:43 2022-07-10-PBL-database.md\n",
      "-rw-r--r-- 1 shruthim shruthim  2908 Aug 23 13:43 2022-07-10-PBL-jokes.md\n",
      "-rw-r--r-- 1 shruthim shruthim  4046 Aug 23 13:43 2022-07-10-PBL-rapidapi.md\n",
      "-rw-r--r-- 1 shruthim shruthim  6685 Aug 23 13:43 2022-07-19-PBL-calculator.md\n",
      "-rw-r--r-- 1 shruthim shruthim 23325 Aug 23 13:43 2022-07-25-CSP-workshop.md\n",
      "-rw-r--r-- 1 shruthim shruthim  2333 Aug 23 13:43 2022-08-15-TP000-student_score_history.md\n",
      "-rw-r--r-- 1 shruthim shruthim  4363 Aug 23 13:43 2022-08-15-TP100-pseudo_code.md\n",
      "-rw-r--r-- 1 shruthim shruthim  7968 Aug 23 13:43 2022-08-15-TR100-tool_setup.md\n",
      "-rw-r--r-- 1 shruthim shruthim 15026 Aug 23 13:43 2022-08-15-TT100-tools.md\n",
      "-rw-r--r-- 1 shruthim shruthim  5590 Aug 23 13:43 2022-08-15-TT101-vscode-wsl.md\n",
      "-rw-r--r-- 1 shruthim shruthim  2155 Aug 23 13:43 2022-08-22-TR110-intro_python.md\n",
      "-rw-r--r-- 1 shruthim shruthim  5173 Aug 23 13:43 2022-08-22-TT110-fastpages.md\n",
      "-rw-r--r-- 1 shruthim shruthim  2798 Aug 23 13:43 2022-08-22-TT110-focus.md\n",
      "-rw-r--r-- 1 shruthim shruthim  2737 Aug 23 13:43 2022-08-29-TR120-data_abstract.md\n",
      "-rw-r--r-- 1 shruthim shruthim 10683 Aug 23 13:43 2022-08-29-TT120-agile.md\n",
      "-rw-r--r-- 1 shruthim shruthim  4498 Aug 23 13:43 2022-08-29-TT120-html_fragments.md\n",
      "-rw-r--r-- 1 shruthim shruthim  9037 Aug 23 13:43 2022-09-05-TP130-create_performance_task.md\n",
      "-rw-r--r-- 1 shruthim shruthim  7753 Aug 23 13:43 2022-09-05-TP131-create-task-bria.md\n",
      "-rw-r--r-- 1 shruthim shruthim  8066 Aug 23 13:43 2022-09-05-TR130-creative_development.md\n",
      "-rw-r--r-- 1 shruthim shruthim  3520 Aug 23 13:43 2022-09-05-TT130-applab.md\n",
      "-rw-r--r-- 1 shruthim shruthim   720 Aug 23 13:43 README.md\n"
     ]
    }
   ],
   "source": [
    "# You must run cells above to define variable and project\n",
    "\n",
    "echo \"Look for posts\"\n",
    "export posts=$project/_posts  # _posts inside project\n",
    "cd $posts  # this should exist per fastpages\n",
    "pwd  # present working directory\n",
    "ls -l  # list posts"
   ]
  },
  {
   "cell_type": "code",
   "execution_count": 4,
   "metadata": {
    "vscode": {
     "languageId": "shellscript"
    }
   },
   "outputs": [
    {
     "name": "stdout",
     "output_type": "stream",
     "text": [
      "Look for notebooks\n",
      "/home/shruthim/vscode/APCSP/_notebooks\n",
      "total 144\n",
      "-rw-r--r-- 1 shruthim shruthim 14243 Aug 23 13:43 2022-06-01-TT150-webapi_tutorial.ipynb\n",
      "-rw-r--r-- 1 shruthim shruthim  8653 Aug 23 13:43 2022-07-21-PBL-neo4j_intro.ipynb\n",
      "-rw-r--r-- 1 shruthim shruthim 11694 Aug 23 13:43 2022-08-22-TP110-python_hello.ipynb\n",
      "-rw-r--r-- 1 shruthim shruthim 20003 Aug 23 13:43 2022-08-22-TT110-anthony_and_sahil.ipynb\n",
      "-rw-r--r-- 1 shruthim shruthim  9525 Aug 23 13:43 2022-08-22-TT110-bash_tutorial.ipynb\n",
      "-rw-r--r-- 1 shruthim shruthim 35721 Aug 25 13:13 2022-08-25-tool_check.ipynb\n",
      "-rw-r--r-- 1 shruthim shruthim 10141 Aug 23 13:43 2022-08-29-TP120-python_lists.ipynb\n",
      "-rw-r--r-- 1 shruthim shruthim 12632 Aug 23 13:43 2022-09-05-TT130-js_tutorial.ipynb\n",
      "-rw-r--r-- 1 shruthim shruthim   771 Aug 23 13:43 README.md\n",
      "drwxr-xr-x 2 shruthim shruthim  4096 Aug 23 13:43 \u001b[0m\u001b[01;34mimages\u001b[0m\n"
     ]
    }
   ],
   "source": [
    "# You must run cells above to define variable and project\n",
    "\n",
    "echo \"Look for notebooks\"\n",
    "export notebooks=$project/_notebooks  # _notebooks is inside project\n",
    "cd $notebooks   # this should exist per fastpages\n",
    "pwd  # present working directory\n",
    "ls -l  # list notebooks"
   ]
  },
  {
   "cell_type": "code",
   "execution_count": 5,
   "metadata": {
    "vscode": {
     "languageId": "shellscript"
    }
   },
   "outputs": [
    {
     "name": "stdout",
     "output_type": "stream",
     "text": [
      "Look for images in notebooks, print working directory, list files\n",
      "/home/shruthim/vscode/APCSP/_notebooks/images\n",
      "total 100\n",
      "-rw-r--r-- 1 shruthim shruthim 101617 Aug 23 13:43 \u001b[0m\u001b[01;35mkernels.png\u001b[0m\n"
     ]
    }
   ],
   "source": [
    "# You must run cells above to define notebooks location\n",
    "\n",
    "echo \"Look for images in notebooks, print working directory, list files\"\n",
    "cd $notebooks/images  # this should exist per fastpages\n",
    "pwd\n",
    "ls -l"
   ]
  },
  {
   "cell_type": "markdown",
   "metadata": {},
   "source": [
    "### Look inside a Markdown File\n",
    "> \"cat\" reads data from the file and gives its content as output"
   ]
  },
  {
   "cell_type": "code",
   "execution_count": 6,
   "metadata": {
    "vscode": {
     "languageId": "shellscript"
    }
   },
   "outputs": [
    {
     "name": "stdout",
     "output_type": "stream",
     "text": [
      "Navigate to project, then navigate to area wwhere files were cloned\n",
      "show the contents of README.md\n",
      "\n",
      "[//]: # (This template replaces README.md when someone creates a new repo with the fastpages template.)\n",
      "\n",
      "![](https://github.com/nighthawkcoders/APCSP/workflows/CI/badge.svg) \n",
      "![](https://github.com/nighthawkcoders/APCSP/workflows/GH-Pages%20Status/badge.svg) \n",
      "[![](https://img.shields.io/static/v1?label=fastai&message=fastpages&color=57aeac&labelColor=black&style=flat&logo=data:image/png;base64,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)](https://github.com/fastai/fastpages)\n",
      "\n",
      "https://nighthawkcoders.github.io/APCSP/\n",
      "\n",
      "# My Blog\n",
      "\n",
      "\n",
      "_powered by [fastpages](https://github.com/fastai/fastpages)_\n",
      "\n",
      "\n",
      "## What To Do Next?\n",
      "\n",
      "Great!  You have setup your repo.  Now its time to start writing content.  Some helpful links:\n",
      "\n",
      "- [Writing Blogs With Jupyter](https://github.com/fastai/fastpages#writing-blog-posts-with-jupyter)\n",
      "\n",
      "- [Writing Blogs With Markdown](https://github.com/fastai/fastpages#writing-blog-posts-with-markdown)\n",
      "\n",
      "- [Writing Blog Posts With Word](https://github.com/fastai/fastpages#writing-blog-posts-with-microsoft-word)\n",
      "\n",
      "- [(Optional) Preview Your Blog Locally](_fastpages_docs/DEVELOPMENT.md)\n",
      "\n",
      "Note: you may want to remove example blog posts from the `_posts`,  `_notebooks` or `_word` folders (but leave them empty, don't delete these folders) if you don't want these blog posts to appear on your site.\n",
      "\n",
      "Please use the [nbdev & blogging channel](https://forums.fast.ai/c/fastai-users/nbdev/48) in the fastai forums for any questions or feature requests.\n",
      "\n",
      "end of README.md\n"
     ]
    }
   ],
   "source": [
    "# You must run cells above to define project\n",
    "echo \"Navigate to project, then navigate to area wwhere files were cloned\"\n",
    "\n",
    "cd $project\n",
    "echo \"show the contents of README.md\"\n",
    "echo \"\"\n",
    "\n",
    "cat README.md  # show contents of file, in this case markdown\n",
    "echo \"\"\n",
    "echo \"end of README.md\"\n"
   ]
  },
  {
   "cell_type": "markdown",
   "metadata": {},
   "source": [
    "### Env, Git and GitHub\n",
    "> Env(ironment) is used to capture things like path to Code or Home directory.  Git and GitHub is NOT Only used to exchange code between individuals, it is often used to exchange code through servers, in our case deployment for Website.   All tools we use have a behind the scenes hav relationship with the system they run on (MacOS, Windows, Linus) or a relationship with servers which they are connected to (ie GitHub).  There is an \"env\" command in bash.  There are environment files and setting files (.git/config) for Git.  They both use a key/value concept.\n",
    "\n",
    "- \"env\" show setting for your shell\n",
    "- \"git clone\" sets up a director of files\n",
    "- \"cd $project\" allows user to move inside that directory of files\n",
    "- \".git\" is a hidden directory that is used by git to establish relationship between machine and the git server on GitHub.  "
   ]
  },
  {
   "cell_type": "code",
   "execution_count": 7,
   "metadata": {
    "vscode": {
     "languageId": "shellscript"
    }
   },
   "outputs": [
    {
     "name": "stdout",
     "output_type": "stream",
     "text": [
      "Show the shell environment variables, key on left of equal value on right\n",
      "\n",
      "SHELL=/bin/bash\n",
      "PYTHONUNBUFFERED=1\n",
      "project=/home/shruthim/vscode/APCSP\n",
      "CONDA_EXE=/home/shruthim/anaconda3/bin/conda\n",
      "_CE_M=\n",
      "WSL_DISTRO_NAME=Ubuntu\n",
      "ELECTRON_RUN_AS_NODE=1\n",
      "VSCODE_AMD_ENTRYPOINT=vs/workbench/api/node/extensionHostProcess\n",
      "NAME=Shruthi-Laptop\n",
      "PWD=/home/shruthim/vscode/APCSP\n",
      "LOGNAME=shruthim\n",
      "CONDA_PREFIX=/home/shruthim/anaconda3\n",
      "project_dir=/home/shruthim/vscode\n",
      "HOME=/home/shruthim\n",
      "LANG=C.UTF-8\n",
      "WSL_INTEROP=/run/WSL/320_interop\n",
      "LS_COLORS=rs=0:di=01;34:ln=01;36:mh=00:pi=40;33:so=01;35:do=01;35:bd=40;33;01:cd=40;33;01:or=40;31;01:mi=00:su=37;41:sg=30;43:ca=30;41:tw=30;42:ow=34;42:st=37;44:ex=01;32:*.tar=01;31:*.tgz=01;31:*.arc=01;31:*.arj=01;31:*.taz=01;31:*.lha=01;31:*.lz4=01;31:*.lzh=01;31:*.lzma=01;31:*.tlz=01;31:*.txz=01;31:*.tzo=01;31:*.t7z=01;31:*.zip=01;31:*.z=01;31:*.dz=01;31:*.gz=01;31:*.lrz=01;31:*.lz=01;31:*.lzo=01;31:*.xz=01;31:*.zst=01;31:*.tzst=01;31:*.bz2=01;31:*.bz=01;31:*.tbz=01;31:*.tbz2=01;31:*.tz=01;31:*.deb=01;31:*.rpm=01;31:*.jar=01;31:*.war=01;31:*.ear=01;31:*.sar=01;31:*.rar=01;31:*.alz=01;31:*.ace=01;31:*.zoo=01;31:*.cpio=01;31:*.7z=01;31:*.rz=01;31:*.cab=01;31:*.wim=01;31:*.swm=01;31:*.dwm=01;31:*.esd=01;31:*.jpg=01;35:*.jpeg=01;35:*.mjpg=01;35:*.mjpeg=01;35:*.gif=01;35:*.bmp=01;35:*.pbm=01;35:*.pgm=01;35:*.ppm=01;35:*.tga=01;35:*.xbm=01;35:*.xpm=01;35:*.tif=01;35:*.tiff=01;35:*.png=01;35:*.svg=01;35:*.svgz=01;35:*.mng=01;35:*.pcx=01;35:*.mov=01;35:*.mpg=01;35:*.mpeg=01;35:*.m2v=01;35:*.mkv=01;35:*.webm=01;35:*.ogm=01;35:*.mp4=01;35:*.m4v=01;35:*.mp4v=01;35:*.vob=01;35:*.qt=01;35:*.nuv=01;35:*.wmv=01;35:*.asf=01;35:*.rm=01;35:*.rmvb=01;35:*.flc=01;35:*.avi=01;35:*.fli=01;35:*.flv=01;35:*.gl=01;35:*.dl=01;35:*.xcf=01;35:*.xwd=01;35:*.yuv=01;35:*.cgm=01;35:*.emf=01;35:*.ogv=01;35:*.ogx=01;35:*.aac=00;36:*.au=00;36:*.flac=00;36:*.m4a=00;36:*.mid=00;36:*.midi=00;36:*.mka=00;36:*.mp3=00;36:*.mpc=00;36:*.ogg=00;36:*.ra=00;36:*.wav=00;36:*.oga=00;36:*.opus=00;36:*.spx=00;36:*.xspf=00;36:\n",
      "WAYLAND_DISPLAY=wayland-0\n",
      "CONDA_PROMPT_MODIFIER=(base) \n",
      "PYDEVD_USE_FRAME_EVAL=NO\n",
      "posts=/home/shruthim/vscode/APCSP/_posts\n",
      "LESSCLOSE=/usr/bin/lesspipe %s %s\n",
      "VSCODE_HANDLES_SIGPIPE=true\n",
      "TERM=xterm-256color\n",
      "_CE_CONDA=\n",
      "LESSOPEN=| /usr/bin/lesspipe %s\n",
      "USER=shruthim\n",
      "PYTHONIOENCODING=utf-8\n",
      "notebooks=/home/shruthim/vscode/APCSP/_notebooks\n",
      "CONDA_SHLVL=1\n",
      "DISPLAY=:0\n",
      "SHLVL=1\n",
      "PAGER=cat\n",
      "project_repo=https://github.com/nighthawkcoders/APCSP.git\n",
      "VSCODE_CWD=/mnt/c/Users/18585/AppData/Local/Programs/Microsoft VS Code\n",
      "CONDA_PYTHON_EXE=/home/shruthim/anaconda3/bin/python\n",
      "XDG_RUNTIME_DIR=/mnt/wslg/runtime-dir\n",
      "PS1=[PEXP\\[\\]ECT_PROMPT>\n",
      "CONDA_DEFAULT_ENV=base\n",
      "WSLENV=VSCODE_WSL_EXT_LOCATION/up\n",
      "VSCODE_WSL_EXT_LOCATION=/mnt/c/Users/18585/.vscode/extensions/ms-vscode-remote.remote-wsl-0.66.3\n",
      "XDG_DATA_DIRS=/usr/local/share:/usr/share:/var/lib/snapd/desktop\n",
      "PATH=/home/shruthim/.vscode-server/bin/e4503b30fc78200f846c62cf8091b76ff5547662/bin/remote-cli:/home/shruthim/.local/bin:/home/shruthim/anaconda3/bin:/home/shruthim/anaconda3/condabin:/usr/local/sbin:/usr/local/bin:/usr/sbin:/usr/bin:/sbin:/bin:/usr/games:/usr/local/games:/usr/lib/wsl/lib:/mnt/c/WINDOWS/system32:/mnt/c/WINDOWS:/mnt/c/WINDOWS/System32/Wbem:/mnt/c/WINDOWS/System32/WindowsPowerShell/v1.0:/mnt/c/WINDOWS/System32/OpenSSH:/mnt/c/Users/18585/AppData/Local/Microsoft/WindowsApps:/mnt/c/Users/18585/AppData/Local/Programs/Microsoft VS Code/bin:/snap/bin\n",
      "VSCODE_NLS_CONFIG={\"locale\":\"en\",\"availableLanguages\":{}}\n",
      "HOSTTYPE=x86_64\n",
      "PULSE_SERVER=/mnt/wslg/PulseServer\n",
      "VSCODE_HANDLES_UNCAUGHT_ERRORS=true\n",
      "OLDPWD=/home/shruthim/vscode/APCSP/_notebooks/images\n",
      "VSCODE_IPC_HOOK_CLI=/mnt/wslg/runtime-dir/vscode-ipc-88f064e3-3f11-406a-9608-7fd08eff1eb3.sock\n",
      "_=/usr/bin/env\n"
     ]
    }
   ],
   "source": [
    "# This command has no dependencies\n",
    "\n",
    "echo \"Show the shell environment variables, key on left of equal value on right\"\n",
    "echo \"\"\n",
    "\n",
    "env"
   ]
  },
  {
   "cell_type": "code",
   "execution_count": 8,
   "metadata": {
    "vscode": {
     "languageId": "shellscript"
    }
   },
   "outputs": [
    {
     "name": "stdout",
     "output_type": "stream",
     "text": [
      "\n",
      "show the secrets of .git\n",
      "total 64\n",
      "-rw-r--r--  1 shruthim shruthim     0 Aug 25 13:14 FETCH_HEAD\n",
      "-rw-r--r--  1 shruthim shruthim    23 Aug 23 13:43 HEAD\n",
      "-rw-r--r--  1 shruthim shruthim    41 Aug 25 13:13 ORIG_HEAD\n",
      "drwxr-xr-x  2 shruthim shruthim  4096 Aug 23 13:43 \u001b[0m\u001b[01;34mbranches\u001b[0m\n",
      "-rw-r--r--  1 shruthim shruthim   269 Aug 23 13:43 config\n",
      "-rw-r--r--  1 shruthim shruthim    73 Aug 23 13:43 description\n",
      "drwxr-xr-x  2 shruthim shruthim  4096 Aug 23 13:43 \u001b[01;34mhooks\u001b[0m\n",
      "-rw-r--r--  1 shruthim shruthim 20021 Aug 25 13:13 index\n",
      "drwxr-xr-x  2 shruthim shruthim  4096 Aug 23 13:43 \u001b[01;34minfo\u001b[0m\n",
      "drwxr-xr-x  3 shruthim shruthim  4096 Aug 23 13:43 \u001b[01;34mlogs\u001b[0m\n",
      "drwxr-xr-x 12 shruthim shruthim  4096 Aug 25 13:13 \u001b[01;34mobjects\u001b[0m\n",
      "-rw-r--r--  1 shruthim shruthim   271 Aug 23 13:43 packed-refs\n",
      "drwxr-xr-x  5 shruthim shruthim  4096 Aug 23 13:43 \u001b[01;34mrefs\u001b[0m\n",
      "\n",
      "look at config file\n",
      "[core]\n",
      "\trepositoryformatversion = 0\n",
      "\tfilemode = true\n",
      "\tbare = false\n",
      "\tlogallrefupdates = true\n",
      "[remote \"origin\"]\n",
      "\turl = https://github.com/nighthawkcoders/APCSP.git\n",
      "\tfetch = +refs/heads/*:refs/remotes/origin/*\n",
      "[branch \"master\"]\n",
      "\tremote = origin\n",
      "\tmerge = refs/heads/master\n"
     ]
    }
   ],
   "source": [
    "# This command has dependencies on project\n",
    "\n",
    "cd $project\n",
    "\n",
    "echo \"\"\n",
    "echo \"show the secrets of .git\"\n",
    "cd .git\n",
    "ls -l\n",
    "\n",
    "echo \"\"\n",
    "echo \"look at config file\"\n",
    "cat config"
   ]
  },
  {
   "cell_type": "markdown",
   "metadata": {},
   "source": [
    "## Hacks\n",
    "> Go back to some of the deployment procedures and think about some thing you could verify through Bash notebook.\n",
    "\n",
    "- Is there anything we use to verify tools we install? Think about versions.\n",
    "- Is there anything we could verify with Anaconda?\n",
    "- How would you update a repository?\n",
    "- Really cool would be automating a procedure from installation.\n"
   ]
  }
 ],
 "metadata": {
  "kernelspec": {
   "display_name": "Python 3.8.10 64-bit",
   "language": "python",
   "name": "python3"
  },
  "language_info": {
   "codemirror_mode": "shell",
   "file_extension": ".sh",
   "mimetype": "text/x-sh",
   "name": "python",
   "version": "3.8.10"
  },
  "orig_nbformat": 4,
  "vscode": {
   "interpreter": {
    "hash": "31f2aee4e71d21fbe5cf8b01ff0e069b9275f58929596ceb00d14d90e3e16cd6"
   }
  }
 },
 "nbformat": 4,
 "nbformat_minor": 2
}
