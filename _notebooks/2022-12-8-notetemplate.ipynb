{
 "cells": [
  {
   "attachments": {},
   "cell_type": "markdown",
   "metadata": {},
   "source": [
    "# Unit 3, Sections 12-13\n",
    "- comments: true"
   ]
  },
  {
   "cell_type": "markdown",
   "metadata": {},
   "source": [
    "# Take some additional notes that you would like here for 3.12 and 3.13. We will be looking for additional notes from the presentation. \n"
   ]
  },
  {
   "attachments": {},
   "cell_type": "markdown",
   "metadata": {},
   "source": [
    "### What are procedures?\n",
    "\n",
    "Procedure:  is a named group of programming instructions that may have parameters and return values\n",
    "\n",
    "Parameters: are input values of a procedure\n",
    "\n",
    "Arguments: specify the values of the parameters when a procedure is called\n",
    "\n",
    "Modularity: separating a program's functions into independent pieces or blocks, each containing all the parts needed to execute a single aspect of the functionality is called\n",
    "\n",
    "Procedural Abstraction: which provides a name for a process that allows a procedure to be used only knowing WHAT it does, not HOW it does it\n",
    "\n",
    "What are some other names for procedures?: function\n",
    "\n",
    "Why are procedures effective?: We have the ability to alter the result without actually changing the calls to the program. Convenient to change the actions if there is an error in the code (modularity). Able to break the code up and abstract what different part of the code does; helps identiy bugs, error, etc. MUCH better than reviewing code WITHOUT a procedure (you would have to look at every line by line)\n"
   ]
  },
  {
   "attachments": {},
   "cell_type": "markdown",
   "metadata": {},
   "source": [
    "### Extra Notes\n",
    "- A procedure call interrupts a series of statements and makes the program execute the statements in the procedure. After executing, it will return to the original call and finish the statements.\n",
    "- in python, to call a procedure you would write the name of the procedure followed by the parentheses with the parameters of the procedure (there may not be parameters, but parenthesis must be there).\n",
    "- procedural abstraction: process that allows a procedure to be used only knowing WHAT it does, not HOW it does it.\n",
    "    - Have variable parameters\n",
    "    - Code handles different situations depending on how its parameters are set/called\n",
    "    - It allows a solution to a large problem based on the solutions of smaller subproblems.\n",
    "    - Separating a program's functions into independent pieces or blocks, each containing all the parts needed to execute a single aspect of the functionality is called modularity"
   ]
  },
  {
   "cell_type": "code",
   "execution_count": null,
   "metadata": {},
   "outputs": [],
   "source": [
    "#javascript function syntax\n",
    "function subtraction(a,b) {\n",
    "    return a - b;\n",
    "  }\n",
    "  \n",
    "  subtraction(10,12)"
   ]
  },
  {
   "attachments": {},
   "cell_type": "markdown",
   "metadata": {},
   "source": [
    "## <mark>Challenge 1</mark> below: Add the command that will **call** the procedure. "
   ]
  },
  {
   "cell_type": "code",
   "execution_count": 6,
   "metadata": {},
   "outputs": [
    {
     "name": "stdout",
     "output_type": "stream",
     "text": [
      "Your number 7 in binary is 111\n"
     ]
    }
   ],
   "source": [
    "# made my own code\n",
    "\n",
    "def dectobinary(decimal):\n",
    "    binary = 0\n",
    "    i = 0\n",
    "    num = decimal\n",
    "    while(num > 0):\n",
    "        binary = ((num%2)*(10**i)) + binary # set binary equal to remainder of the input/2, multiplied by 10^i\n",
    "        num = int(num/2) #now number equal num/2 rounded to an integer\n",
    "        i += 1 #incriment by 1\n",
    "    print(\"Your number \" + str(decimal) + \" in binary is \" + str(binary))  #output result       \n",
    "\n",
    "decimal = 7\n",
    "dectobinary(decimal)"
   ]
  },
  {
   "attachments": {},
   "cell_type": "markdown",
   "metadata": {},
   "source": [
    "## <mark>Challenge 2</mark> below: Complete the Min and Max procedure in either JavaScript and Python using the instructions from the JavaScript page. (JavaScript will get you a extra 0.1)"
   ]
  },
  {
   "cell_type": "code",
   "execution_count": 20,
   "metadata": {},
   "outputs": [
    {
     "name": "stdout",
     "output_type": "stream",
     "text": [
      "4 (b) is the larger value\n",
      "1 (a) is the smaller value!\n"
     ]
    }
   ],
   "source": [
    "# method 1 (one function that tells you min, max, or if the two values are equal)\n",
    "\n",
    "a = int(input(\"Enter your first value\"))\n",
    "b= int(input(\"Enter your second value?\"))\n",
    "\n",
    "def function(a,b):\n",
    "    if a > b:\n",
    "        print(str(a) + \" (a) is the larger value!\")\n",
    "        print(str(b) + \" (b) is the smaller value!\")\n",
    "    else:\n",
    "        if b > a:\n",
    "            print(str(b) + \" (b) is the larger value\")\n",
    "            print(str(a) + \" (a) is the smaller value!\")\n",
    "        if b == a:\n",
    "            print(str(a) + str(b) + \" (a and b) are equal\")\n",
    "\n",
    "function(a,b)"
   ]
  },
  {
   "cell_type": "code",
   "execution_count": 18,
   "metadata": {},
   "outputs": [
    {
     "name": "stdout",
     "output_type": "stream",
     "text": [
      "4 (b) is the larger value!\n",
      "1 (a) is the smaller value!\n"
     ]
    }
   ],
   "source": [
    "# method 2 (2 functions the separately find min and max)\n",
    "\n",
    "a = int(input(\"Enter your first value\"))\n",
    "b= int(input(\"Enter your second value?\"))\n",
    "\n",
    "def findMax(a,b):\n",
    "    if a > b:\n",
    "        print(str(a) + \" (a) is the larger value!\")\n",
    "    else :\n",
    "        if b > a:\n",
    "            print(str(b) + \" (b) is the larger value!\")\n",
    "\n",
    "def findMin(a,b):\n",
    "    if a < b:\n",
    "        print(str(a) + \" (a) is the smaller value!\")\n",
    "    else:\n",
    "        if b < a:\n",
    "            print(str(b) + \" (b) is the smaller value!\")\n",
    "\n",
    "findMax(a,b)\n",
    "findMin(a,b)\n"
   ]
  },
  {
   "attachments": {},
   "cell_type": "markdown",
   "metadata": {},
   "source": [
    "## <mark>Homework/Hacks</mark>: For the hw, you have two options, easy or hard. The easy hack is for a 2.7 + extra work for the full 3. The easy hack is simply creating your own procedure with your own creativity. Since there is a lot of leeway for this one, you must do additional work to get a 3. For the hard hack, below is the start to a character to binary convertor. This is just a template, but the goal is to translate \"APCSP\" into binary. You can delete the existing code if you want. The only contraint is that you must use a procedure. Doing this will get you a 3. "
   ]
  },
  {
   "cell_type": "code",
   "execution_count": 27,
   "metadata": {},
   "outputs": [
    {
     "name": "stdout",
     "output_type": "stream",
     "text": [
      " 'APCSP' in binary is: \n",
      "[1000001, 1010000, 1000011, 1010011, 1010000]\n"
     ]
    }
   ],
   "source": [
    "import math\n",
    "\n",
    "def charToBinary(term):\n",
    "  char = []\n",
    "  binary = [] \n",
    "  for x in term:\n",
    "    char.append(ord(x)) #each character from APCSP is assigned to a list (char)\n",
    "  for x in char:\n",
    "    binary.append(int(bin(x)[2:])) #for each character in list char, the binary of that character is appended to binary list (I just used the built in bin conversion function)\n",
    "  return binary #binary list is printed\n",
    "\n",
    "print(\" 'APCSP' in binary is: \") \n",
    "print(charToBinary(\"APCSP\")) \n",
    "\n",
    "# The output shown below is the output you are supposed to get"
   ]
  }
 ],
 "metadata": {
  "kernelspec": {
   "display_name": "Python 3",
   "language": "python",
   "name": "python3"
  },
  "language_info": {
   "codemirror_mode": {
    "name": "ipython",
    "version": 3
   },
   "file_extension": ".py",
   "mimetype": "text/x-python",
   "name": "python",
   "nbconvert_exporter": "python",
   "pygments_lexer": "ipython3",
   "version": "3.8.10"
  },
  "orig_nbformat": 4,
  "vscode": {
   "interpreter": {
    "hash": "31f2aee4e71d21fbe5cf8b01ff0e069b9275f58929596ceb00d14d90e3e16cd6"
   }
  }
 },
 "nbformat": 4,
 "nbformat_minor": 2
}
