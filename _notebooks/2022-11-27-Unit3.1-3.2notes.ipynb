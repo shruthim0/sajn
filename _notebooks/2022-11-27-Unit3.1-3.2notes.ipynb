{
 "cells": [
  {
   "cell_type": "markdown",
   "metadata": {},
   "source": [
    "# 3.1-3.2 notes"
   ]
  },
  {
   "cell_type": "markdown",
   "metadata": {},
   "source": [
    "## 3.3 Expressions\n",
    "\n",
    "### Vocabulary :)\n",
    "\n",
    "1. the symbol for exponent is **  \n",
    "2. the symbol for addition is +  \n",
    "3. the symbol for subtraction is -  \n",
    "4. the symbol for multiplication is *  \n",
    "5. the symbol for division is /  \n",
    "6. the symbol for modulus is % \n",
    "* this gets you remainder\n",
    "7. an algorithm is sequence of steps that do a specific task"
   ]
  },
  {
   "cell_type": "markdown",
   "metadata": {},
   "source": [
    "# practicing sequencing"
   ]
  },
  {
   "cell_type": "code",
   "execution_count": 1,
   "metadata": {},
   "outputs": [
    {
     "name": "stdout",
     "output_type": "stream",
     "text": [
      "-3.0\n"
     ]
    }
   ],
   "source": [
    "value1 = 5\n",
    "value2 = value1 / 10 #step 1\n",
    "value3 = value2 * 2 #step 2\n",
    "value4 = value3 - 4  #step 3\n",
    "print(value4)"
   ]
  },
  {
   "cell_type": "markdown",
   "metadata": {},
   "source": [
    "# selection & iteration practice"
   ]
  },
  {
   "cell_type": "code",
   "execution_count": 2,
   "metadata": {},
   "outputs": [
    {
     "name": "stdout",
     "output_type": "stream",
     "text": [
      "3 is divisible by 3 :) \n",
      "4 is not divisible by 3 :(\n",
      "9 is divisible by 3 :) \n",
      "76 is not divisible by 3 :(\n",
      "891 is divisible by 3 :) \n"
     ]
    }
   ],
   "source": [
    "numlist = [\"3\",\"4\",\"9\",\"76\",\"891\"]\n",
    "for x in numlist:\n",
    "    if int(x) % 3 == 0:\n",
    "        print(str(x) + \" is divisible by 3 :) \")\n",
    "        continue\n",
    "    else:\n",
    "        print(str(x) + \" is not divisible by 3 :(\")\n",
    "        continue"
   ]
  },
  {
   "cell_type": "markdown",
   "metadata": {},
   "source": [
    "## incorporating binary"
   ]
  },
  {
   "cell_type": "code",
   "execution_count": 3,
   "metadata": {},
   "outputs": [
    {
     "name": "stdout",
     "output_type": "stream",
     "text": [
      "Here is your number in binary!\n",
      "00101111\n"
     ]
    }
   ],
   "source": [
    "def convert(number):\n",
    "    binary = \"\"\n",
    "    i = 7\n",
    "\n",
    "    while i >= 0:\n",
    "        if number % (2**i) == number:\n",
    "            binary = binary + \"0\"\n",
    "            i -= 1\n",
    "        else:\n",
    "            binary = binary + \"1\"\n",
    "            number -= 2**i\n",
    "            i -= 1\n",
    "\n",
    "    print(binary)\n",
    "\n",
    "print(\"Here is your number in binary!\")\n",
    "convert(47)\n"
   ]
  },
  {
   "cell_type": "markdown",
   "metadata": {},
   "source": [
    "### Psuedocode\n",
    "Pseudocode is writing out a program in plain language with keywords that are used to refer to common coding concepts.\n",
    "\n",
    "Can be thought of with ordinary things you do:\n",
    "Brushing your teeth:\n",
    "1. Pick up your toothbrush\n",
    "2. Rinse toothbrush\n",
    "3. Pick up toothpaste\n",
    "4. Place toothpaste on the toothbrush\n",
    "5. Rinse toothbrush again\n",
    "6. Brush teeth in a circular motion\n",
    "7. Spit\n",
    "8. Wash mouth \n",
    "9. Rinse toothbrush\n",
    "10. You have brushed your teeth!"
   ]
  },
  {
   "cell_type": "markdown",
   "metadata": {},
   "source": [
    "### Substring/Length Practice\n",
    "\n",
    "1. substring is a part of a string"
   ]
  },
  {
   "cell_type": "code",
   "execution_count": 4,
   "metadata": {},
   "outputs": [
    {
     "name": "stdout",
     "output_type": "stream",
     "text": [
      "hello\n",
      "bye\n",
      "hellobye\n"
     ]
    },
    {
     "data": {
      "text/plain": [
       "8"
      ]
     },
     "execution_count": 4,
     "metadata": {},
     "output_type": "execute_result"
    }
   ],
   "source": [
    "#substring = string[start:end] \n",
    "#the substring will have the characters including the index \"start\" to the character BEFORE the index \"end\"\n",
    "#len(string) will print the length of string\n",
    "\n",
    "(string) = \"hellobye\"\n",
    "print(string[0:5])\n",
    "print(string[5:8])\n",
    "print(string[0:8])\n",
    "len(string)"
   ]
  },
  {
   "cell_type": "markdown",
   "metadata": {},
   "source": [
    "### Concatenation Practice\n",
    "\n",
    "1. concatenation is the combining of strings"
   ]
  },
  {
   "cell_type": "code",
   "execution_count": 6,
   "metadata": {},
   "outputs": [
    {
     "name": "stdout",
     "output_type": "stream",
     "text": [
      "butterfly\n"
     ]
    }
   ],
   "source": [
    "#string1 + string2 will add string2 to the end of string1\n",
    "\n",
    "string1 = \"butter\"\n",
    "string2 = \"fly\"\n",
    "string3 = string1 + string2\n",
    "print(string3)"
   ]
  },
  {
   "cell_type": "code",
   "execution_count": 8,
   "metadata": {},
   "outputs": [
    {
     "name": "stdout",
     "output_type": "stream",
     "text": [
      "cat 3\n",
      "dog 3\n",
      "racoon 6\n",
      "rabbit 6\n"
     ]
    }
   ],
   "source": [
    "names = [\"cat\",\"dog\",\"racoon\",\"rabbit\"]\n",
    "\n",
    "def length(names):\n",
    "    for x in names:\n",
    "        print(x, len(str(x)))\n",
    "\n",
    "length(names)"
   ]
  }
 ],
 "metadata": {
  "kernelspec": {
   "display_name": "Python 3.8.10 64-bit",
   "language": "python",
   "name": "python3"
  },
  "language_info": {
   "codemirror_mode": {
    "name": "ipython",
    "version": 3
   },
   "file_extension": ".py",
   "mimetype": "text/x-python",
   "name": "python",
   "nbconvert_exporter": "python",
   "pygments_lexer": "ipython3",
   "version": "3.8.10 (default, Jun 22 2022, 20:18:18) \n[GCC 9.4.0]"
  },
  "orig_nbformat": 4,
  "vscode": {
   "interpreter": {
    "hash": "916dbcbb3f70747c44a77c7bcd40155683ae19c65e1c03b4aa3499c5328201f1"
   }
  }
 },
 "nbformat": 4,
 "nbformat_minor": 2
}
