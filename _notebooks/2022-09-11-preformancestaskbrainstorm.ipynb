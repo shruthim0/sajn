{
 "cells": [
  {
   "cell_type": "markdown",
   "metadata": {},
   "source": [
    "# Brainstorming Ideas for APCSP Preformance Task\n",
    "\n"
   ]
  },
  {
   "cell_type": "markdown",
   "metadata": {},
   "source": [
    "### App Ideas\n",
    "- journal app with prompts\n",
    "    - random prompts will be given\n",
    "    - use has set amount per prompt\n",
    "    - user also has option to free write\n",
    "    - inputs are stored and can be accessed by user\n",
    "- writing practice app\n",
    "    - random prompts will be given to user\n",
    "    - user has a set amount of time to write about given prompt\n",
    "    - user's input is stored and can be accessed by user\n",
    "- drawing app\n",
    "- planner app\n",
    "- calculator app"
   ]
  },
  {
   "cell_type": "markdown",
   "metadata": {},
   "source": [
    "Things I can do: "
   ]
  },
  {
   "cell_type": "code",
   "execution_count": null,
   "metadata": {},
   "outputs": [],
   "source": [
    "# Lists, Dictionaries, Iterations\n",
    "\n",
    "InfoDb = []    # defining an empty list\n",
    "InfoDb.append({    # to append values to list\n",
    "print(InfoDb)      # will print the data structure\n",
    "\n",
    "\n",
    "# While loop contains an initial n and an index incrementing statement (n += 1)\n",
    "def while_loop():\n",
    "    print(\"While loop output\\n\")\n",
    "    i = 0\n",
    "    while i < len(InfoDb):\n",
    "        record = Quiz[i]\n",
    "        print (record)\n",
    "        i += 1\n",
    "    return\n",
    "\n",
    "while_loop()"
   ]
  }
 ],
 "metadata": {
  "kernelspec": {
   "display_name": "Python 3.8.10 64-bit",
   "language": "python",
   "name": "python3"
  },
  "language_info": {
   "name": "python",
   "version": "3.8.10"
  },
  "orig_nbformat": 4,
  "vscode": {
   "interpreter": {
    "hash": "916dbcbb3f70747c44a77c7bcd40155683ae19c65e1c03b4aa3499c5328201f1"
   }
  }
 },
 "nbformat": 4,
 "nbformat_minor": 2
}
