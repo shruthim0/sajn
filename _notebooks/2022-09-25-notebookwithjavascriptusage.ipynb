{
 "cells": [
  {
   "cell_type": "markdown",
   "metadata": {},
   "source": [
    "# Using JavaScript\n",
    "> Using Jupyter JavaScript kernel"
   ]
  },
  {
   "cell_type": "code",
   "execution_count": 1,
   "metadata": {},
   "outputs": [
    {
     "name": "stdout",
     "output_type": "stream",
     "text": [
      "Fruits\n"
     ]
    }
   ],
   "source": [
    "console.log(\"Fruits\");"
   ]
  },
  {
   "cell_type": "code",
   "execution_count": 2,
   "metadata": {},
   "outputs": [
    {
     "name": "stdout",
     "output_type": "stream",
     "text": [
      "I love fruits\n"
     ]
    }
   ],
   "source": [
    "var msg = \"I love fruits\";\n",
    "console.log(msg);"
   ]
  },
  {
   "cell_type": "code",
   "execution_count": null,
   "metadata": {},
   "outputs": [],
   "source": [
    "function Fruit(name , color) {\n",
    "    this.name = name;\n",
    "    this.color = color;\n",
    "    this.role = \"\";\n",
    "}\n",
    "\n",
    "Fruit.prototype.setRole = function(role) {\n",
    "    this.role = role;\n",
    "}\n",
    "\n",
    "Fruit.prototype.toJSON = function() {\n",
    "    const obj = {name: this.name, color: this.color};\n",
    "    const json = JSON.stringify(obj);\n",
    "    return json;\n",
    "}\n",
    "\n",
    "var x = new Fruit(\"Apple\", \"red\");\n",
    "logItType(x);\n",
    "logItType(x.toJSON());\n",
    "\n",
    "scrollX.setRole(\"x\"); \n",
    "logItType(x); \n",
    "logItType(x.toJSON());"
   ]
  }
 ],
 "metadata": {
  "kernelspec": {
   "display_name": "JavaScript (Node.js)",
   "language": "javascript",
   "name": "javascript"
  },
  "language_info": {
   "file_extension": ".js",
   "mimetype": "application/javascript",
   "name": "javascript",
   "version": "6.11.2"
  },
  "orig_nbformat": 4,
  "vscode": {
   "interpreter": {
    "hash": "916dbcbb3f70747c44a77c7bcd40155683ae19c65e1c03b4aa3499c5328201f1"
   }
  }
 },
 "nbformat": 4,
 "nbformat_minor": 2
}
