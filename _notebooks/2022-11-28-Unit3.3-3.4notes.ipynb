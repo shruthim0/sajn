{
 "cells": [
  {
   "cell_type": "markdown",
   "metadata": {},
   "source": [
    "# 3.3-3.4 notes"
   ]
  },
  {
   "cell_type": "markdown",
   "metadata": {},
   "source": [
    "\n",
    "### Intro\n",
    "- Represent a value with a variable\n",
    "- Strings, lists, booleans, numbers\n",
    "- Determine the value of a variable as a result of an assignment\n",
    "\n",
    "### Defining in Pythin\n",
    "- To define a variable in python, just type in the variable name - one word - and use the = sign to set it equal to it's value. \n",
    "- variable can be defined using numbers, string, list, or boolean\n",
    "- Strings must have quotations around it\n",
    "- lists must be surrounded by square brackets\n",
    "\n",
    "### boolean: T or F\n",
    "    - define dictionary w curly brackets\n",
    "        - create a new key and set it equal to a value\n",
    "    - can use floats ( a decimal)\n",
    "        - can do division, multiplication, print them\n",
    "\n",
    "### Javascript\n",
    "    - var name = value;\n",
    "    - can use algebra\n",
    "        - var x = x + y\n",
    "    - const also defines a variable\n",
    "\n",
    "### Boolean\n",
    "    - w = 6 and q = 5\n",
    "    - if w>6 boolean returns ture\n",
    "\n",
    "### Data Abstraction in Python\n",
    "- Manages complexity in a program and makes code easier to implement\n",
    "- differnt variables can hvae the same object\n",
    "- can split and join lists and the data inside them\n"
   ]
  },
  {
   "cell_type": "code",
   "execution_count": 3,
   "metadata": {},
   "outputs": [
    {
     "name": "stdout",
     "output_type": "stream",
     "text": [
      "25\n",
      "i am so sleepy\n",
      "[1, 2, 3, 4, 5]\n",
      "['red', 'orange', 'yellow', 'green', 'blue']\n",
      "False\n"
     ]
    }
   ],
   "source": [
    "# DEFINING IN PYTHON\n",
    "\n",
    "numbervariable = 25\n",
    "stringvariable = \"i am so sleepy\"\n",
    "numberlist = [1, 2, 3, 4, 5]\n",
    "listofstrings = [\"red\", \"orange\", \"yellow\", \"green\", \"blue\"]\n",
    "israining = False\n",
    "\n",
    "print(numbervariable)\n",
    "print(stringvariable)\n",
    "print(numberlist)\n",
    "print(listofstrings)\n",
    "print(israining)"
   ]
  },
  {
   "cell_type": "code",
   "execution_count": 5,
   "metadata": {},
   "outputs": [
    {
     "name": "stdout",
     "output_type": "stream",
     "text": [
      "10\n",
      "10\n"
     ]
    }
   ],
   "source": [
    "# math functions!\n",
    "\n",
    "number = 5  #defining the variable number\n",
    "x = number * 2  #defining a variable by using another variable\n",
    "print(number*2)  # multiplying a variable by 2\n",
    "print(x)"
   ]
  },
  {
   "cell_type": "code",
   "execution_count": 13,
   "metadata": {},
   "outputs": [
    {
     "name": "stdout",
     "output_type": "stream",
     "text": [
      "['flowers', 'fruits']\n"
     ]
    }
   ],
   "source": [
    "# list: scquare brackets\n",
    "list = []\n",
    "list.append(\"flowers\")\n",
    "list.append(\"fruits\")  # appending a value to a defined list\n",
    "print(list)"
   ]
  },
  {
   "cell_type": "code",
   "execution_count": 10,
   "metadata": {},
   "outputs": [
    {
     "name": "stdout",
     "output_type": "stream",
     "text": [
      "{'dogies': 'animals', 'banana': 'fruit', 'couch': 'furniture'}\n"
     ]
    }
   ],
   "source": [
    "# dictionary: curly brackets\n",
    "\n",
    "mydictionary = {\"dogies\":\"animals\"}  # defining dictionary using curly brackets\n",
    "mydictionary[\"banana\"] = \"fruit\"   #add keys and values to a dict by setting a value equal to a key, like shown\n",
    "mydictionary[\"couch\"] = \"furniture\"  #editing a value inside the dictionary\n",
    "print(mydictionary)"
   ]
  },
  {
   "cell_type": "code",
   "execution_count": null,
   "metadata": {
    "vscode": {
     "languageId": "javascript"
    }
   },
   "outputs": [],
   "source": [
    "// boolean in javascript\n",
    "Boolean(w > q) //true\n",
    "Boolean(w < q)  //false"
   ]
  }
 ],
 "metadata": {
  "kernelspec": {
   "display_name": "Python 3.8.10 64-bit",
   "language": "python",
   "name": "python3"
  },
  "language_info": {
   "codemirror_mode": {
    "name": "ipython",
    "version": 3
   },
   "file_extension": ".py",
   "mimetype": "text/x-python",
   "name": "python",
   "nbconvert_exporter": "python",
   "pygments_lexer": "ipython3",
   "version": "3.8.10"
  },
  "orig_nbformat": 4,
  "vscode": {
   "interpreter": {
    "hash": "916dbcbb3f70747c44a77c7bcd40155683ae19c65e1c03b4aa3499c5328201f1"
   }
  }
 },
 "nbformat": 4,
 "nbformat_minor": 2
}
