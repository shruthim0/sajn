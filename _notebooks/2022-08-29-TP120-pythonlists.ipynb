{
 "cells": [
  {
   "cell_type": "markdown",
   "metadata": {},
   "source": [
    "# Using Lists, Dictionaries, Iteration\n",
    "> Adding some records to the InfoDb, loop with an index, and making a quiz.\n",
    "\n",
    "- title: Lists, Dictionaries, Iteration\n",
    "- toc: true\n",
    "- categories: [units]\n",
    "- permalink: /collegeboard/python_lists\n",
    "- image: /images/python_lists.png\n",
    "- categories: [collegeboard]\n",
    "- tags: [python]"
   ]
  },
  {
   "cell_type": "markdown",
   "metadata": {},
   "source": [
    "### Lists and Dictionaries\n",
    "As a quick review we used variables in the introduction last week.  <mark>Variables all have a type</mark>: String, Integer, Float, List and Dictionary are some key types.  In Python, variables are given a type at assignment,  Types are important to understand and will impact operations, as we saw when we were required to user str() function in concatenation.  \n",
    "\n",
    "1. Developers often think of variables as primitives or collections.  Look at this example and see if you can see hypothesize the difference between a primitive and a collection.  \n",
    "2. Take a minute and see if you can reference other elements in the list or other keys in the dictionary. Show output."
   ]
  },
  {
   "cell_type": "code",
   "execution_count": 9,
   "metadata": {},
   "outputs": [
    {
     "name": "stdout",
     "output_type": "stream",
     "text": [
      "name John Doe <class 'str'>\n",
      "age 18 <class 'int'>\n",
      "score 90.0 <class 'float'>\n",
      "\n",
      "langs ['Python', 'JavaScript', 'Java', 'Bash'] <class 'list'>\n",
      "- langs[3] Bash <class 'str'>\n",
      "\n",
      "person {'name': 'John Doe', 'age': 18, 'score': 90.0, 'langs': ['Python', 'JavaScript', 'Java', 'Bash']} <class 'dict'>\n",
      "- person[\"name\"] John Doe <class 'str'>\n"
     ]
    }
   ],
   "source": [
    "# Sample of Python Variables\n",
    "\n",
    "# variable of type string\n",
    "name = \"John Doe\"\n",
    "print(\"name\", name, type(name))\n",
    "\n",
    "# variable of type integer\n",
    "age = 18\n",
    "print(\"age\", age, type(age))\n",
    "\n",
    "# variable of type float\n",
    "score = 90.0\n",
    "print(\"score\", score, type(score))\n",
    "\n",
    "print()\n",
    "\n",
    "# variable of type list (many values in one variable)\n",
    "langs = [\"Python\", \"JavaScript\", \"Java\", \"Bash\"]\n",
    "print(\"langs\", langs, type(langs))\n",
    "print(\"- langs[3]\", langs[3], type(langs[3]))\n",
    "\n",
    "print()\n",
    "\n",
    "# variable of type dictionary (a group of keys and values)\n",
    "person = {\n",
    "    \"name\": name,\n",
    "    \"age\": age,\n",
    "    \"score\": score,\n",
    "    \"langs\": langs\n",
    "}\n",
    "print(\"person\", person, type(person))\n",
    "print('- person[\"name\"]', person[\"name\"], type(person[\"name\"]))\n"
   ]
  },
  {
   "cell_type": "markdown",
   "metadata": {},
   "source": [
    "### List and Dictionary purpose\n",
    "Our society is being build on information.  <mark>List and Dictionaries are used to collect information</mark>.  Mostly, when information is collected it is formed into patterns.  As that pattern is established you will collect many instances of that pattern.\n",
    "- List is used to collect many\n",
    "- Dictionary is used to define data patterns.\n",
    "- Iteration is often used to process through lists.\n",
    "\n",
    "To start exploring more deeply into List, Dictionary and Iteration we will explore constructing a List of people and cars.\n",
    "- As we learned above, List is a data type: class 'list'\n",
    "- A <mark>'list' data type has the method '.append(expression)'</mark> that allows you to add to the list\n",
    "- In the example below,  the expression appended to the 'list' is the data type: class 'dict'\n",
    "- At the end, you see a fairly complicated data structure.  This is a <mark>list of dictionaries</mark>.  The output looks similar to JSON and we will see this often, you will be required to understand this data structure and understand the parts.  Easy peasy ;)."
   ]
  },
  {
   "cell_type": "code",
   "execution_count": 20,
   "metadata": {},
   "outputs": [
    {
     "name": "stdout",
     "output_type": "stream",
     "text": [
      "[{'FirstName': 'John', 'LastName': 'Mortensen', 'DOB': 'October 21', 'Residence': 'San Diego', 'Email': 'jmortensen@powayusd.com', 'Owns_Cars': ['2015-Fusion', '2011-Ranger', '2003-Excursion', '1997-F350', '1969-Cadillac']}, {'FirstName': 'Sunny', 'LastName': 'Naidu', 'DOB': 'August 2', 'Residence': 'Temecula', 'Email': 'snaidu@powayusd.com', 'Owns_Cars': ['4Runner']}, {'FirstName': 'Shruthi', 'LastName': 'Malayath', 'DOB': 'April 14', 'Residence': 'San Diego', 'Email': 'shmalayath@gmail.com', 'Owns_Cars': ['-']}, {'FirstName': 'Kavya', 'LastName': 'Malayath', 'DOB': 'August 30th', 'Residence': 'San Diego', 'Email': 'kavyam@gmail.com', 'Owns_Cars': ['pls no']}]\n"
     ]
    }
   ],
   "source": [
    "# Define an empty List called InfoDb\n",
    "InfoDb = []\n",
    "\n",
    "# Append to List a Dictionary of key/values related to a person and cars\n",
    "InfoDb.append({\n",
    "    \"FirstName\": \"John\",\n",
    "    \"LastName\": \"Mortensen\",\n",
    "    \"DOB\": \"October 21\",\n",
    "    \"Residence\": \"San Diego\",\n",
    "    \"Email\": \"jmortensen@powayusd.com\",\n",
    "    \"Owns_Cars\": [\"2015-Fusion\", \"2011-Ranger\", \"2003-Excursion\", \"1997-F350\", \"1969-Cadillac\"]\n",
    "})\n",
    "\n",
    "# Append to List a 2nd Dictionary of key/values\n",
    "InfoDb.append({\n",
    "    \"FirstName\": \"Sunny\",\n",
    "    \"LastName\": \"Naidu\",\n",
    "    \"DOB\": \"August 2\",\n",
    "    \"Residence\": \"Temecula\",\n",
    "    \"Email\": \"snaidu@powayusd.com\",\n",
    "    \"Owns_Cars\": [\"4Runner\"]\n",
    "})\n",
    "\n",
    "# Append to List a 3rd Dictionary of key/values\n",
    "InfoDb.append({\n",
    "    \"FirstName\": \"Shruthi\",\n",
    "    \"LastName\": \"Malayath\",\n",
    "    \"DOB\": \"April 14\",\n",
    "    \"Residence\": \"San Diego\",\n",
    "    \"Email\": \"shmalayath@gmail.com\",\n",
    "    \"Owns_Cars\": [\"-\"]\n",
    "\n",
    "})\n",
    "\n",
    "# Append to List a 4th Dictionary of key/values\n",
    "InfoDb.append({\n",
    "    \"FirstName\": \"Kavya\",\n",
    "    \"LastName\": \"Malayath\",\n",
    "    \"DOB\": \"August 30th\",\n",
    "    \"Residence\": \"San Diego\",\n",
    "    \"Email\": \"kavyam@gmail.com\",\n",
    "    \"Owns_Cars\": [\"pls no\"]\n",
    "\n",
    "})\n",
    "\n",
    "# Print the data structure\n",
    "print(InfoDb)"
   ]
  },
  {
   "cell_type": "markdown",
   "metadata": {},
   "source": [
    "### Formatted output of List/Dictionary - for loop\n",
    "Managing data in Lists and Dictionaries is for the convenience of passing the data across the internet or preparing it to be stored into a database.  Also, it is a great way to exchange data inside of our own programs.\n",
    "\n",
    "Next, we will take the stored data and output it within our notebook.  There are multiple steps to this process...\n",
    "- <mark>Preparing a function to format the data</mark>, the print_data() function receives a parameter called \"d_rec\" short for dictionary record.  It then references different keys within [] square brackets.   \n",
    "- <mark>Preparing a function to iterate through the list</mark>, the for_loop() function uses an enhanced for loop that pull record by record out of InfoDb until the list is empty.  Each time through the loop it call print_data(record), which passes the dictionary record to that function.\n",
    "- Finally, you need to <mark>activate your function</mark> with the call to the defined function for_loop().  Functions are defined, not activated until they are called.  By placing for_loop() at the left margin the function is activated."
   ]
  },
  {
   "cell_type": "code",
   "execution_count": 21,
   "metadata": {},
   "outputs": [
    {
     "name": "stdout",
     "output_type": "stream",
     "text": [
      "For loop output\n",
      "\n",
      "John Mortensen\n",
      "\t Residence: San Diego\n",
      "\t Birth Day: October 21\n",
      "\t Cars: 2015-Fusion, 2011-Ranger, 2003-Excursion, 1997-F350, 1969-Cadillac\n",
      "\n",
      "Sunny Naidu\n",
      "\t Residence: Temecula\n",
      "\t Birth Day: August 2\n",
      "\t Cars: 4Runner\n",
      "\n",
      "Shruthi Malayath\n",
      "\t Residence: San Diego\n",
      "\t Birth Day: April 14\n",
      "\t Cars: -\n",
      "\n",
      "Kavya Malayath\n",
      "\t Residence: San Diego\n",
      "\t Birth Day: August 30th\n",
      "\t Cars: pls no\n",
      "\n"
     ]
    }
   ],
   "source": [
    "# given and index this will print InfoDb content\n",
    "def print_data(d_rec):\n",
    "    print(d_rec[\"FirstName\"], d_rec[\"LastName\"])  # using comma puts space between values\n",
    "    print(\"\\t\", \"Residence:\", d_rec[\"Residence\"]) # \\t is a tab indent\n",
    "    print(\"\\t\", \"Birth Day:\", d_rec[\"DOB\"])\n",
    "    print(\"\\t\", \"Cars: \", end=\"\")  # end=\"\" make sure no return occurs\n",
    "    print(\", \".join(d_rec[\"Owns_Cars\"]))  # join allows printing a string list with separator\n",
    "    print()\n",
    "\n",
    "\n",
    "# for loop iterates on length of InfoDb\n",
    "def for_loop():\n",
    "    print(\"For loop output\\n\")\n",
    "    for record in InfoDb:\n",
    "        print_data(record)\n",
    "\n",
    "for_loop()"
   ]
  },
  {
   "cell_type": "markdown",
   "metadata": {},
   "source": [
    "### Alternate methods for iteration - while loop\n",
    "In coding, there are usually many ways to achieve the same result.  Defined are functions illustrating using index to reference records in a list, these methods are called a \"while\" loop and \"recursion\".\n",
    "- The while_loop() function contains a while loop, \"while i < len(InfoDb):\".  This counts through the elements in the list start at zero, and passes the record to print_data()"
   ]
  },
  {
   "cell_type": "code",
   "execution_count": 10,
   "metadata": {},
   "outputs": [
    {
     "name": "stdout",
     "output_type": "stream",
     "text": [
      "While loop output\n",
      "\n"
     ]
    },
    {
     "ename": "NameError",
     "evalue": "name 'InfoDb' is not defined",
     "output_type": "error",
     "traceback": [
      "\u001b[0;31m---------------------------------------------------------------------------\u001b[0m",
      "\u001b[0;31mNameError\u001b[0m                                 Traceback (most recent call last)",
      "\u001b[1;32m/home/shruthim/vscode/repository2/_notebooks/2022-08-29-TP120-pythonlists.ipynb Cell 9\u001b[0m in \u001b[0;36m<cell line: 11>\u001b[0;34m()\u001b[0m\n\u001b[1;32m      <a href='vscode-notebook-cell://wsl%2Bubuntu/home/shruthim/vscode/repository2/_notebooks/2022-08-29-TP120-pythonlists.ipynb#X11sdnNjb2RlLXJlbW90ZQ%3D%3D?line=7'>8</a>\u001b[0m         i \u001b[39m+\u001b[39m\u001b[39m=\u001b[39m \u001b[39m1\u001b[39m\n\u001b[1;32m      <a href='vscode-notebook-cell://wsl%2Bubuntu/home/shruthim/vscode/repository2/_notebooks/2022-08-29-TP120-pythonlists.ipynb#X11sdnNjb2RlLXJlbW90ZQ%3D%3D?line=8'>9</a>\u001b[0m     \u001b[39mreturn\u001b[39;00m\n\u001b[0;32m---> <a href='vscode-notebook-cell://wsl%2Bubuntu/home/shruthim/vscode/repository2/_notebooks/2022-08-29-TP120-pythonlists.ipynb#X11sdnNjb2RlLXJlbW90ZQ%3D%3D?line=10'>11</a>\u001b[0m while_loop()\n",
      "\u001b[1;32m/home/shruthim/vscode/repository2/_notebooks/2022-08-29-TP120-pythonlists.ipynb Cell 9\u001b[0m in \u001b[0;36mwhile_loop\u001b[0;34m()\u001b[0m\n\u001b[1;32m      <a href='vscode-notebook-cell://wsl%2Bubuntu/home/shruthim/vscode/repository2/_notebooks/2022-08-29-TP120-pythonlists.ipynb#X11sdnNjb2RlLXJlbW90ZQ%3D%3D?line=2'>3</a>\u001b[0m \u001b[39mprint\u001b[39m(\u001b[39m\"\u001b[39m\u001b[39mWhile loop output\u001b[39m\u001b[39m\\n\u001b[39;00m\u001b[39m\"\u001b[39m)\n\u001b[1;32m      <a href='vscode-notebook-cell://wsl%2Bubuntu/home/shruthim/vscode/repository2/_notebooks/2022-08-29-TP120-pythonlists.ipynb#X11sdnNjb2RlLXJlbW90ZQ%3D%3D?line=3'>4</a>\u001b[0m i \u001b[39m=\u001b[39m \u001b[39m0\u001b[39m\n\u001b[0;32m----> <a href='vscode-notebook-cell://wsl%2Bubuntu/home/shruthim/vscode/repository2/_notebooks/2022-08-29-TP120-pythonlists.ipynb#X11sdnNjb2RlLXJlbW90ZQ%3D%3D?line=4'>5</a>\u001b[0m \u001b[39mwhile\u001b[39;00m i \u001b[39m<\u001b[39m \u001b[39mlen\u001b[39m(InfoDb):\n\u001b[1;32m      <a href='vscode-notebook-cell://wsl%2Bubuntu/home/shruthim/vscode/repository2/_notebooks/2022-08-29-TP120-pythonlists.ipynb#X11sdnNjb2RlLXJlbW90ZQ%3D%3D?line=5'>6</a>\u001b[0m     record \u001b[39m=\u001b[39m InfoDb[i]\n\u001b[1;32m      <a href='vscode-notebook-cell://wsl%2Bubuntu/home/shruthim/vscode/repository2/_notebooks/2022-08-29-TP120-pythonlists.ipynb#X11sdnNjb2RlLXJlbW90ZQ%3D%3D?line=6'>7</a>\u001b[0m     print_data(record)\n",
      "\u001b[0;31mNameError\u001b[0m: name 'InfoDb' is not defined"
     ]
    }
   ],
   "source": [
    "# while loop contains an initial n and an index incrementing statement (n += 1)\n",
    "def while_loop():\n",
    "    print(\"While loop output\\n\")\n",
    "    i = 0\n",
    "    while i < len(InfoDb):\n",
    "        record = Quiz[i]\n",
    "        print (record)\n",
    "        i += 1\n",
    "    return\n",
    "\n",
    "while_loop()"
   ]
  },
  {
   "cell_type": "markdown",
   "metadata": {},
   "source": [
    "### Calling a function repeatedly - recursion\n",
    "This final technique achieves looping by calling itself repeatedly.\n",
    "- recursive_loop(i) function is primed with the value 0 on its activation with \"recursive_loop(0)\"\n",
    "- the last statement indented inside the if statement \"recursive_loop(i + 1)\" activates another call to the recursive_loop(i) function, each time i is increasing\n",
    "- ultimately the \"if i < len(InfoDb):\" will evaluate to false and the program ends"
   ]
  },
  {
   "cell_type": "code",
   "execution_count": 23,
   "metadata": {},
   "outputs": [
    {
     "name": "stdout",
     "output_type": "stream",
     "text": [
      "Recursive loop output\n",
      "\n",
      "John Mortensen\n",
      "\t Residence: San Diego\n",
      "\t Birth Day: October 21\n",
      "\t Cars: 2015-Fusion, 2011-Ranger, 2003-Excursion, 1997-F350, 1969-Cadillac\n",
      "\n",
      "Sunny Naidu\n",
      "\t Residence: Temecula\n",
      "\t Birth Day: August 2\n",
      "\t Cars: 4Runner\n",
      "\n",
      "Shruthi Malayath\n",
      "\t Residence: San Diego\n",
      "\t Birth Day: April 14\n",
      "\t Cars: -\n",
      "\n",
      "Kavya Malayath\n",
      "\t Residence: San Diego\n",
      "\t Birth Day: August 30th\n",
      "\t Cars: pls no\n",
      "\n"
     ]
    }
   ],
   "source": [
    "# recursion simulates loop incrementing on each call (n + 1) until exit condition is met\n",
    "def recursive_loop(i):\n",
    "    if i < len(InfoDb):\n",
    "        record = InfoDb[i]\n",
    "        print_data(record)\n",
    "        recursive_loop(i + 1)\n",
    "    return\n",
    "    \n",
    "print(\"Recursive loop output\\n\")\n",
    "recursive_loop(0)"
   ]
  },
  {
   "cell_type": "code",
   "execution_count": 23,
   "metadata": {},
   "outputs": [
    {
     "name": "stdout",
     "output_type": "stream",
     "text": [
      "What is your Name?\n",
      "Where do you live?\n",
      "When is your birthday?\n",
      "What are your hoobies?\n",
      "For loop output\n",
      "\n",
      "\t Hobby: Painting, Reading, Sleeping\n",
      "\n",
      "\t Hobby: Reading\n",
      "\n"
     ]
    }
   ],
   "source": [
    "InfoDb = []\n",
    "\n",
    "# Append to List a 1st Dictionary of key/values\n",
    "InfoDb.append({\n",
    "    \"FirstName\": \"Shruthi\",\n",
    "    \"LastName\": \"Malayath\",\n",
    "    \"DOB\": \"April 14\",\n",
    "    \"Residence\": \"San Diego\",\n",
    "    \"Email\": \"shmalayath@gmail.com\",\n",
    "    \"Hobby\": [\"Painting, Reading, Sleeping\"]\n",
    "\n",
    "})\n",
    "\n",
    "# Append to List a 2nd Dictionary of key/values\n",
    "InfoDb.append({\n",
    "    \"FirstName\": \"Kavya\",\n",
    "    \"LastName\": \"Malayath\",\n",
    "    \"DOB\": \"August 30th\",\n",
    "    \"Residence\": \"San Diego\",\n",
    "    \"Email\": \"kavyam@gmail.com\",\n",
    "    \"Hobby\": [\"Reading\"]\n",
    "\n",
    "})\n",
    "\n",
    "print(\"What is your Name?\")\n",
    "\n",
    "def print_data(d_rec):\n",
    "    print(d_rec[\"FirstName\"], d_rec[\"LastName\"])\n",
    "\n",
    "print(\"Where do you live?\")\n",
    "\n",
    "def print_data(d_rec):\n",
    "    print(\"\\t\", \"Residence:\", d_rec[\"Residence\"]) # \\t is a tab indent\n",
    "\n",
    "print(\"When is your birthday?\")\n",
    "\n",
    "def print_data(d_rec):\n",
    "    print(\"\\t\", \"Birth Day:\", d_rec[\"DOB\"])\n",
    "    \n",
    "\n",
    "print(\"What are your hoobies?\")\n",
    "\n",
    "def print_data(d_rec):\n",
    "    print(\"\\t\", \"Hobby: \", end=\"\")  # end=\"\" make sure no return occurs\n",
    "    print(\", \".join(d_rec[\"Hobby\"]))  # join allows printing a string list with separator\n",
    "    print()\n",
    "\n",
    "\n",
    "# for loop iterates on length of InfoDb\n",
    "def for_loop():\n",
    "    print(\"For loop output\\n\")\n",
    "    for record in InfoDb:\n",
    "        print_data(record)\n",
    "\n",
    "for_loop()"
   ]
  }
 ],
 "metadata": {
  "kernelspec": {
   "display_name": "Python 3.8.10 64-bit",
   "language": "python",
   "name": "python3"
  },
  "language_info": {
   "codemirror_mode": {
    "name": "ipython",
    "version": 3
   },
   "file_extension": ".py",
   "mimetype": "text/x-python",
   "name": "python",
   "nbconvert_exporter": "python",
   "pygments_lexer": "ipython3",
   "version": "3.8.10"
  },
  "orig_nbformat": 4,
  "vscode": {
   "interpreter": {
    "hash": "916dbcbb3f70747c44a77c7bcd40155683ae19c65e1c03b4aa3499c5328201f1"
   }
  }
 },
 "nbformat": 4,
 "nbformat_minor": 2
}
