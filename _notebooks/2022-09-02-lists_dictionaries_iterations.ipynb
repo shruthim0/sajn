{
 "cells": [
  {
   "cell_type": "markdown",
   "metadata": {},
   "source": [
    "# Lists, Dictionaries, and Iterations"
   ]
  },
  {
   "cell_type": "markdown",
   "metadata": {},
   "source": [
    "### Append to List a Dictionary of key/values related to a person "
   ]
  },
  {
   "cell_type": "code",
   "execution_count": 12,
   "metadata": {},
   "outputs": [
    {
     "name": "stdout",
     "output_type": "stream",
     "text": [
      "[{'First_Name': 'Shruthi', 'Last_Name': 'Malayath', 'DOB': 'April 14 2006', 'Email': 'shmalayath@gmail.com', 'Hobbies': 'Watching movies, drawing, and sleeping', 'Favorite_Color': ['green']}, {'First_Name': 'Kavya', 'Last_Name': 'Malayath', 'DOB': 'August 30 2009', 'Email': 'kavyamalayath@com', 'Hobbies': 'Reading', 'Favorite_Color': ['purple']}, {'First_Name': 'Snow', 'Last_Name': 'Malayath', 'DOB': 'March 31 2020', 'Email': \"she's a dog\", 'Hobbies': 'chewing furniture', 'Favorite_Color': ['blue']}]\n"
     ]
    }
   ],
   "source": [
    "InfoDb = []\n",
    "\n",
    "\n",
    "\n",
    "InfoDb.append({\n",
    "    \"First_Name\": \"Shruthi\",\n",
    "    \"Last_Name\": \"Malayath\",\n",
    "    \"DOB\": \"April 14 2006\",\n",
    "    \"Email\": \"shmalayath@gmail.com\",\n",
    "    \"Hobbies\": \"Watching movies, drawing, and sleeping\",\n",
    "    \"Favorite_Color\": [\"green\"],\n",
    "}\n",
    "InfoDb.append({\n",
    "    \"First_Name\": \"Kavya\",\n",
    "    \"Last_Name\": \"Malayath\",\n",
    "    \"DOB\": \"August 30 2009\",\n",
    "    \"Email\": \"kavyamalayath@com\",\n",
    "    \"Hobbies\": \"Reading\",\n",
    "    \"Favorite_Color\": [\"purple\"],\n",
    "})\n",
    "\n",
    "InfoDb.append({\n",
    "    \"First_Name\": \"Snow\",\n",
    "    \"Last_Name\": \"Malayath\",\n",
    "    \"DOB\": \"March 31 2020\",\n",
    "    \"Email\": \"she's a dog\",\n",
    "    \"Hobbies\": \"chewing furniture\",\n",
    "    \"Favorite_Color\": [\"blue\"],\n",
    "\n",
    "})\n",
    "\n",
    "print(InfoDb)"
   ]
  },
  {
   "cell_type": "markdown",
   "metadata": {},
   "source": [
    "### A  For Loop"
   ]
  },
  {
   "cell_type": "code",
   "execution_count": 13,
   "metadata": {},
   "outputs": [
    {
     "name": "stdout",
     "output_type": "stream",
     "text": [
      "Information on:\n",
      "\n",
      "Shruthi Malayath\n",
      "\t DOB: April 14 2006\n",
      "\t email: shmalayath@gmail.com\n",
      "\t Hobbies: Watching movies, drawing, and sleeping\n",
      "\t Favorite Color:green\n",
      "\n",
      "Kavya Malayath\n",
      "\t DOB: August 30 2009\n",
      "\t email: kavyamalayath@com\n",
      "\t Hobbies: Reading\n",
      "\t Favorite Color:purple\n",
      "\n",
      "Snow Malayath\n",
      "\t DOB: March 31 2020\n",
      "\t email: she's a dog\n",
      "\t Hobbies: chewing furniture\n",
      "\t Favorite Color:blue\n",
      "\n"
     ]
    }
   ],
   "source": [
    "\n",
    "def print_data(d_rec):\n",
    "    print(d_rec[\"First_Name\"], d_rec[\"Last_Name\"])  # using comma puts space between values\n",
    "    print(\"\\t\", \"DOB:\", d_rec[\"DOB\"]) # \\t is a tab indent\n",
    "    print(\"\\t\", \"email:\", d_rec[\"Email\"])\n",
    "    print(\"\\t\", \"Hobbies:\", d_rec[\"Hobbies\"])\n",
    "    print(\"\\t\", \"Favorite Color: \", end=\"\")  # end=\"\" make sure no return occurs\n",
    "    print(\", \".join(d_rec[\"Favorite_Color\"]))  # join allows printing a string list with separator\n",
    "    print()\n",
    "\n",
    "\n",
    "# for loop algorithm iterates on length of InfoDb\n",
    "def for_loop():\n",
    "    print(\"Information on:\\n\")\n",
    "    for record in InfoDb:\n",
    "        print_data(record)\n",
    "\n",
    "for_loop()"
   ]
  },
  {
   "cell_type": "markdown",
   "metadata": {},
   "source": [
    "### Making a Quiz that Stores in a List of Dictionaries"
   ]
  },
  {
   "cell_type": "code",
   "execution_count": 2,
   "metadata": {},
   "outputs": [
    {
     "name": "stdout",
     "output_type": "stream",
     "text": [
      "Hello, shruthim\n",
      "\t You will be asked 6 questions on world history.\n",
      "\t shruthim you must use proper capitalization on this quiz!!\n",
      "Question: What year did WWI start?\n",
      "\t 1914 is correct!\n",
      "Question: The event in 1968 where Soviet troops stormed Czechoslovakia to crack down on reforms:\n",
      "\t Prague Spring is correct!\n",
      "Question: What is the first name of the Soviet Union president involved in the Cuban Missile Crisis\n",
      "\t Nikita is correct!\n",
      "Question: When were India and Pakistan divided?\n",
      "\t 1947 is correct!\n",
      "Question: The _____ dynasty marks the last of the Chinese emperors\n",
      "\t Qing is correct!\n",
      "Question: Due to liberation of many African nations, the year 1960 is known as the...\n",
      "\t Year of Africa is correct!\n",
      "shruthim you scored 6/6!!\n",
      "\n",
      " \n",
      " \n",
      "\n",
      "-----------------------------------------\n",
      "Here is a record of your quiz:\n",
      "For loop output\n",
      "\n",
      "Question 1: 1914\n",
      "Question 2: Prague Spring\n",
      "Question 3: Nikita\n",
      "Question 4: 1947\n",
      "Question 5: Qing"
     ]
    }
   ],
   "source": [
    "import getpass, sys\n",
    "\n",
    "questions = 6\n",
    "correct = 0   \n",
    "\n",
    "print('Hello, ' + getpass.getuser())\n",
    "print(\"\\t\", \"You will be asked \" + str(questions) + \" questions on world history.\")\n",
    "print(\"\\t\", getpass.getuser() + \" you must use proper capitalization on this quiz!!\")\n",
    "\n",
    "def question_and_answer(prompt, answer):\n",
    "    print(\"Question: \" + prompt) \n",
    "    rsp = input() \n",
    "    \n",
    "    if rsp == answer :\n",
    "        print(\"\\t\", rsp + \" is correct!\")\n",
    "        global correct\n",
    "        correct += 1\n",
    "    else:\n",
    "        print (\"\\t\", rsp + \" is incorrect!\")\n",
    "    return rsp\n",
    "\n",
    "Question_1 = question_and_answer(\"What year did WWI start?\", \"1914\")\n",
    "Question_2 = question_and_answer(\"The event in 1968 where Soviet troops stormed Czechoslovakia to crack down on reforms:\", \"Prague Spring\")\n",
    "Question_3 = question_and_answer(\"What is the first name of the Soviet Union president involved in the Cuban Missile Crisis\", \"Nikita\")\n",
    "Question_4 = question_and_answer(\"When were India and Pakistan divided?\", \"1947\")\n",
    "Question_5 = question_and_answer(\"The _____ dynasty marks the last of the Chinese emperors\", \"Qing\")\n",
    "Question_6 = question_and_answer(\"Due to liberation of many African nations, the year 1960 is known as the...\", \"Year of Africa\")\n",
    "\n",
    "print(getpass.getuser() + \" you scored \" + str(correct) +\"/\" + str(questions) + \"!!\")\n",
    "\n",
    "Quiz = []\n",
    "\n",
    "Quiz.append({\n",
    "    \"Q_1\": Question_1,\n",
    "    \"Q_2\": Question_2,\n",
    "    \"Q_3\": Question_3,\n",
    "    \"Q_4\": Question_4,\n",
    "    \"Q_5\": Question_5\n",
    "})\n",
    "\n",
    "def print_data(d_rec):\n",
    "    print(\"Question 1:\", d_rec[\"Q_1\"]) \n",
    "    print(\"Question 2:\", d_rec[\"Q_2\"]) \n",
    "    print(\"Question 3:\", d_rec[\"Q_3\"])\n",
    "    print(\"Question 4:\", d_rec[\"Q_4\"])\n",
    "    print(\"Question 5:\", d_rec[\"Q_5\"], end=\"\")  \n",
    "\n",
    "\n",
    "print(\"\\n \\n \\n\")\n",
    "\n",
    "print(\"-----------------------------------------\")\n",
    "\n",
    "print(\"Here is a record of your quiz:\")\n",
    "def for_loop():\n",
    "    print(\"For loop output\\n\")\n",
    "    for record in Quiz:\n",
    "        print_data(record)\n",
    "\n",
    "for_loop()"
   ]
  }
 ],
 "metadata": {
  "kernelspec": {
   "display_name": "Python 3.8.10 64-bit",
   "language": "python",
   "name": "python3"
  },
  "language_info": {
   "codemirror_mode": {
    "name": "ipython",
    "version": 3
   },
   "file_extension": ".py",
   "mimetype": "text/x-python",
   "name": "python",
   "nbconvert_exporter": "python",
   "pygments_lexer": "ipython3",
   "version": "3.8.10"
  },
  "orig_nbformat": 4,
  "vscode": {
   "interpreter": {
    "hash": "916dbcbb3f70747c44a77c7bcd40155683ae19c65e1c03b4aa3499c5328201f1"
   }
  }
 },
 "nbformat": 4,
 "nbformat_minor": 2
}
