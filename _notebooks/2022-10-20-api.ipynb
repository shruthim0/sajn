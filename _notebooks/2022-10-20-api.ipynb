{
 "cells": [
  {
   "cell_type": "markdown",
   "metadata": {},
   "source": [
    "# API practice"
   ]
  },
  {
   "cell_type": "code",
   "execution_count": 6,
   "metadata": {
    "vscode": {
     "languageId": "javascript"
    }
   },
   "outputs": [
    {
     "ename": "NameError",
     "evalue": "name 'prompt' is not defined",
     "output_type": "error",
     "traceback": [
      "\u001b[0;31m---------------------------------------------------------------------------\u001b[0m",
      "\u001b[0;31mNameError\u001b[0m                                 Traceback (most recent call last)",
      "\u001b[1;32m/home/shruthim/vscode/repository2/_notebooks/2022-10-20-api.ipynb Cell 2\u001b[0m in \u001b[0;36m<cell line: 1>\u001b[0;34m()\u001b[0m\n\u001b[0;32m----> <a href='vscode-notebook-cell://wsl%2Bubuntu/home/shruthim/vscode/repository2/_notebooks/2022-10-20-api.ipynb#W6sdnNjb2RlLXJlbW90ZQ%3D%3D?line=0'>1</a>\u001b[0m prompt(\u001b[39m\"\u001b[39m\u001b[39mEnter your name\u001b[39m\u001b[39m\"\u001b[39m)\n",
      "\u001b[0;31mNameError\u001b[0m: name 'prompt' is not defined"
     ]
    }
   ],
   "source": []
  },
  {
   "cell_type": "markdown",
   "metadata": {},
   "source": [
    "### Covid19 RapidAPI"
   ]
  },
  {
   "cell_type": "code",
   "execution_count": 1,
   "metadata": {
    "vscode": {
     "languageId": "shellscript"
    }
   },
   "outputs": [
    {
     "name": "stdout",
     "output_type": "stream",
     "text": [
      "World Totals\n",
      "total_cases 509,268,964\n",
      "new_cases 204,268\n",
      "total_deaths 6,242,509\n",
      "new_deaths 630\n",
      "total_recovered 461,827,849\n",
      "active_cases 41,198,606\n",
      "serious_critical 42,510\n",
      "total_cases_per_1m_population 65,334\n",
      "deaths_per_1m_population 800.9\n",
      "statistic_taken_at 2022-04-24 11:18:01\n",
      "\n",
      "Country Totals\n",
      "country_name USA\n",
      "cases 82,649,779\n",
      "deaths 1,018,316\n",
      "region \n",
      "total_recovered 80,434,925\n",
      "new_deaths 0\n",
      "new_cases 0\n",
      "serious_critical 1,465\n",
      "active_cases 1,196,538\n",
      "total_cases_per_1m_population 247,080\n",
      "deaths_per_1m_population 3,044\n",
      "total_tests 1,000,275,726\n",
      "tests_per_1m_population 2,990,303\n"
     ]
    }
   ],
   "source": [
    "\"\"\"\n",
    "Requests is a HTTP library for the Python programming language. \n",
    "The goal of the project is to make HTTP requests simpler and more human-friendly. \n",
    "\"\"\"\n",
    "import requests\n",
    "\n",
    "\"\"\"\n",
    "RapidAPI is the world's largest API Marketplace. \n",
    "Developers use Rapid API to discover and connect to thousands of APIs. \n",
    "\"\"\"\n",
    "url = \"https://corona-virus-world-and-india-data.p.rapidapi.com/api\"\n",
    "headers = {\n",
    "    'x-rapidapi-key': \"dec069b877msh0d9d0827664078cp1a18fajsn2afac35ae063\",\n",
    "    'x-rapidapi-host': \"corona-virus-world-and-india-data.p.rapidapi.com\"\n",
    "}\n",
    "\n",
    "# Request Covid Data\n",
    "response = requests.request(\"GET\", url, headers=headers)\n",
    "# print(response.text)  # uncomment this line to see raw data\n",
    "\n",
    "# This code looks for \"world data\"\n",
    "print(\"World Totals\")\n",
    "world = response.json().get('world_total')  # turn response to json() so we can extract \"world_total\"\n",
    "for key, value in world.items():  # this finds key, value pairs in country\n",
    "    print(key, value)\n",
    "\n",
    "print()\n",
    "\n",
    "# This code looks for USA in \"countries_stats\"\n",
    "print(\"Country Totals\")\n",
    "countries = response.json().get('countries_stat')\n",
    "for country in countries:  # countries is a list\n",
    "    if country[\"country_name\"] == \"USA\":  # this filters for USA\n",
    "        for key, value in country.items():  # this finds key, value pairs in country\n",
    "            print(key, value)"
   ]
  },
  {
   "cell_type": "markdown",
   "metadata": {},
   "source": [
    "## Spotify API"
   ]
  },
  {
   "cell_type": "code",
   "execution_count": 30,
   "metadata": {},
   "outputs": [
    {
     "name": "stdout",
     "output_type": "stream",
     "text": [
      "{\"query\":\"Harry+Styles\",\"artists\":{\"totalCount\":51,\"items\":[{\"data\":{\"uri\":\"spotify:artist:6KImCVD70vtIoJWnq6nGn3\",\"profile\":{\"name\":\"Harry Styles\"},\"visuals\":{\"avatarImage\":{\"sources\":[{\"url\":\"https:\\/\\/i.scdn.co\\/image\\/ab6761610000e5ebf7db7c8ede90a019c54590bb\",\"width\":640,\"height\":640},{\"url\":\"https:\\/\\/i.scdn.co\\/image\\/ab6761610000f178f7db7c8ede90a019c54590bb\",\"width\":160,\"height\":160}]}}}},{\"data\":{\"uri\":\"spotify:artist:6wVLKQ3w2gCn11a0NQAkX0\",\"profile\":{\"name\":\"Harry Younger Styles\"},\"visuals\":{\"avatarImage\":null}}},{\"data\":{\"uri\":\"spotify:artist:4AK6F7OLvEQ5QYCBNiQWHq\",\"profile\":{\"name\":\"One Direction\"},\"visuals\":{\"avatarImage\":{\"sources\":[{\"url\":\"https:\\/\\/i.scdn.co\\/image\\/289c7f686f5b78ceeb224453cf9a15697a678a79\",\"width\":640,\"height\":640},{\"url\":\"https:\\/\\/i.scdn.co\\/image\\/6c89c662ad0ab75bc2af9a3ae2b16f811daced50\",\"width\":64,\"height\":64}]}}}},{\"data\":{\"uri\":\"spotify:artist:6rq7VcWeCTjiBIIuGt0D96\",\"profile\":{\"name\":\"Harry Stone\"},\"visuals\":{\"avatarImage\":{\"sources\":[{\"url\":\"https:\\/\\/i.scdn.co\\/image\\/ab6761610000e5ebb6f491a3465a8408d9062cf0\",\"width\":640,\"height\":640},{\"url\":\"https:\\/\\/i.scdn.co\\/image\\/ab6761610000f178b6f491a3465a8408d9062cf0\",\"width\":160,\"height\":160}]}}}},{\"data\":{\"uri\":\"spotify:artist:7mOjyS2iRyUA5jGuoUzEhv\",\"profile\":{\"name\":\"styles benin harry\"},\"visuals\":{\"avatarImage\":{\"sources\":[{\"url\":\"https:\\/\\/i.scdn.co\\/image\\/ab67616d0000b27398a414cadc31f38fb767f147\",\"width\":640,\"height\":640},{\"url\":\"https:\\/\\/i.scdn.co\\/image\\/ab67616d0000485198a414cadc31f38fb767f147\",\"width\":64,\"height\":64}]}}}},{\"data\":{\"uri\":\"spotify:artist:2IrrH2ytG96HCP9dnM6mGr\",\"profile\":{\"name\":\"Twan Ray\"},\"visuals\":{\"avatarImage\":{\"sources\":[{\"url\":\"https:\\/\\/i.scdn.co\\/image\\/ab6761610000e5eb76414483e902603927037c8d\",\"width\":640,\"height\":640},{\"url\":\"https:\\/\\/i.scdn.co\\/image\\/ab6761610000f17876414483e902603927037c8d\",\"width\":160,\"height\":160}]}}}},{\"data\":{\"uri\":\"spotify:artist:2tCELGtX6ikbBFQomLSCRp\",\"profile\":{\"name\":\"Harry Stockwell\"},\"visuals\":{\"avatarImage\":null}}},{\"data\":{\"uri\":\"spotify:artist:6CbmeywK3diNOrfk5yxr2d\",\"profile\":{\"name\":\"STYLES HARRY EDWARD\"},\"visuals\":{\"avatarImage\":{\"sources\":[{\"url\":\"https:\\/\\/i.scdn.co\\/image\\/ab67616d0000b27306b1f9b270b94fb192cfb449\",\"width\":640,\"height\":640},{\"url\":\"https:\\/\\/i.scdn.co\\/image\\/ab67616d0000485106b1f9b270b94fb192cfb449\",\"width\":64,\"height\":64}]}}}},{\"data\":{\"uri\":\"spotify:artist:72fQWyXObQBgUIUejMo6js\",\"profile\":{\"name\":\"Molotov Cocktail Piano\"},\"visuals\":{\"avatarImage\":{\"sources\":[{\"url\":\"https:\\/\\/i.scdn.co\\/image\\/ab6761610000e5eb5a9d38bfc76db9ba482d635f\",\"width\":640,\"height\":640},{\"url\":\"https:\\/\\/i.scdn.co\\/image\\/ab6761610000f1785a9d38bfc76db9ba482d635f\",\"width\":160,\"height\":160}]}}}},{\"data\":{\"uri\":\"spotify:artist:1KDOjuXZPd8XA3YBakakMb\",\"profile\":{\"name\":\"Harry Shotta\"},\"visuals\":{\"avatarImage\":{\"sources\":[{\"url\":\"https:\\/\\/i.scdn.co\\/image\\/ab6761610000e5eb1eaf3ed16e9ac9e629844890\",\"width\":640,\"height\":640},{\"url\":\"https:\\/\\/i.scdn.co\\/image\\/ab6761610000f1781eaf3ed16e9ac9e629844890\",\"width\":160,\"height\":160}]}}}}],\"pagingInfo\":{\"nextOffset\":10,\"limit\":10}}}\n"
     ]
    }
   ],
   "source": [
    "import requests\n",
    "\n",
    "url = \"https://spotify23.p.rapidapi.com/search/\"\n",
    "\n",
    "querystring = {\"q\":\"Harry Styles\",\"type\":\"artists\",\"offset\":\"0\",\"limit\":\"10\",\"numberOfTopResults\":\"5\"}\n",
    "\n",
    "headers = {\n",
    "\t\"X-RapidAPI-Key\": \"ec628c3848mshc2f96fd1e664c35p194b32jsna5ebcbef62b6\",\n",
    "\t\"X-RapidAPI-Host\": \"spotify23.p.rapidapi.com\"\n",
    "}\n",
    "\n",
    "response = requests.request(\"GET\", url, headers=headers, params=querystring)\n",
    "\n",
    "print(response.text)\n",
    "\n"
   ]
  },
  {
   "cell_type": "code",
   "execution_count": 1,
   "metadata": {},
   "outputs": [
    {
     "name": "stdout",
     "output_type": "stream",
     "text": [
      "{\"error\":{\"status\":400,\"message\":\"invalid id\"}}\n"
     ]
    }
   ],
   "source": [
    "import requests\n",
    "\n",
    "url = \"https://spotify23.p.rapidapi.com/albums/\"\n",
    "\n",
    "querystring = {\"ids\":\"Harry's House\"}\n",
    "\n",
    "headers = {\n",
    "\t\"X-RapidAPI-Key\": \"ec628c3848mshc2f96fd1e664c35p194b32jsna5ebcbef62b6\",\n",
    "\t\"X-RapidAPI-Host\": \"spotify23.p.rapidapi.com\"\n",
    "}\n",
    "\n",
    "response = requests.request(\"GET\", url, headers=headers, params=querystring)\n",
    "\n",
    "print(response.text)"
   ]
  },
  {
   "cell_type": "code",
   "execution_count": 3,
   "metadata": {
    "vscode": {
     "languageId": "javascript"
    }
   },
   "outputs": [
    {
     "ename": "IndentationError",
     "evalue": "unexpected indent (732928681.py, line 2)",
     "output_type": "error",
     "traceback": [
      "\u001b[0;36m  Input \u001b[0;32mIn [3]\u001b[0;36m\u001b[0m\n\u001b[0;31m    then(function(response) {\u001b[0m\n\u001b[0m    ^\u001b[0m\n\u001b[0;31mIndentationError\u001b[0m\u001b[0;31m:\u001b[0m unexpected indent\n"
     ]
    }
   ],
   "source": [
    "fetch(\"https://type.fit/api/quotes\")\n",
    "  .then(function(response) {\n",
    "    return response.json();\n",
    "  })\n",
    "  .then(function(data) {\n",
    "    console.log(data);\n",
    "  });\n",
    "  \n",
    "const settings = {\n",
    "    \"async\": true,\n",
    "    \"crossDomain\": true,\n",
    "    \"url\": \"https://type.fit/api/quotes\",\n",
    "    \"method\": \"GET\"\n",
    "}\n",
    "  \n",
    "$.ajax(settings).done(function (response) {\n",
    "    const data = JSON.parse(response);\n",
    "    console.log(data);\n",
    "});"
   ]
  },
  {
   "cell_type": "code",
   "execution_count": 6,
   "metadata": {
    "vscode": {
     "languageId": "javascript"
    }
   },
   "outputs": [
    {
     "ename": "SyntaxError",
     "evalue": "invalid syntax (3701912586.py, line 1)",
     "output_type": "error",
     "traceback": [
      "\u001b[0;36m  Input \u001b[0;32mIn [6]\u001b[0;36m\u001b[0m\n\u001b[0;31m    const options = {\u001b[0m\n\u001b[0m          ^\u001b[0m\n\u001b[0;31mSyntaxError\u001b[0m\u001b[0;31m:\u001b[0m invalid syntax\n"
     ]
    }
   ],
   "source": [
    "const options = {\n",
    "\tmethod: 'POST',\n",
    "\theaders: {\n",
    "\t\t'content-type': 'application/json',\n",
    "\t\t'X-RapidAPI-Key': 'ec628c3848mshc2f96fd1e664c35p194b32jsna5ebcbef62b6',\n",
    "\t\t'X-RapidAPI-Host': 'motivational-quotes1.p.rapidapi.com'\n",
    "\t},\n",
    "\tbody: '{\"key1\":\"value\",\"key2\":\"value\"}'\n",
    "};\n",
    "\n",
    "fetch('https://motivational-quotes1.p.rapidapi.com/motivation', options)\n",
    "\t.then(response => response.json())\n",
    "\t.then(response => console.log(response))\n",
    "\t.catch(err => console.error(err));\n",
    "\n",
    "response = requests.request(\"GET\", url, headers=headers, params=querystring)\n",
    "\n",
    "print(response.text)"
   ]
  }
 ],
 "metadata": {
  "kernelspec": {
   "display_name": "Python 3.8.10 64-bit",
   "language": "python",
   "name": "python3"
  },
  "language_info": {
   "codemirror_mode": {
    "name": "ipython",
    "version": 3
   },
   "file_extension": ".py",
   "mimetype": "text/x-python",
   "name": "python",
   "nbconvert_exporter": "python",
   "pygments_lexer": "ipython3",
   "version": "3.8.10"
  },
  "orig_nbformat": 4,
  "vscode": {
   "interpreter": {
    "hash": "916dbcbb3f70747c44a77c7bcd40155683ae19c65e1c03b4aa3499c5328201f1"
   }
  }
 },
 "nbformat": 4,
 "nbformat_minor": 2
}
